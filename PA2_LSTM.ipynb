{
 "cells": [
  {
   "cell_type": "code",
   "execution_count": 257,
   "metadata": {},
   "outputs": [],
   "source": [
    "import pandas as pd\n",
    "import numpy as np\n",
    "import matplotlib.pyplot as plt\n",
    "import seaborn as sns\n",
    "from sklearn.model_selection import train_test_split\n",
    "from sklearn.preprocessing import LabelEncoder\n",
    "from keras.models import Model\n",
    "from keras.layers import LSTM, Activation, Dense, Dropout, Input, Embedding\n",
    "from keras.optimizers import RMSprop\n",
    "from keras.preprocessing.text import Tokenizer\n",
    "from keras.preprocessing import sequence\n",
    "from keras.utils import to_categorical\n",
    "from keras.callbacks import EarlyStopping\n",
    "from sklearn.utils import shuffle\n",
    "from sklearn.metrics import f1_score\n",
    "from keras.models import Sequential\n",
    "from sklearn.model_selection import GridSearchCV\n",
    "%matplotlib inline"
   ]
  },
  {
   "cell_type": "code",
   "execution_count": 14,
   "metadata": {},
   "outputs": [
    {
     "data": {
      "text/html": [
       "<div>\n",
       "<style scoped>\n",
       "    .dataframe tbody tr th:only-of-type {\n",
       "        vertical-align: middle;\n",
       "    }\n",
       "\n",
       "    .dataframe tbody tr th {\n",
       "        vertical-align: top;\n",
       "    }\n",
       "\n",
       "    .dataframe thead th {\n",
       "        text-align: right;\n",
       "    }\n",
       "</style>\n",
       "<table border=\"1\" class=\"dataframe\">\n",
       "  <thead>\n",
       "    <tr style=\"text-align: right;\">\n",
       "      <th></th>\n",
       "      <th>id</th>\n",
       "      <th>keyword</th>\n",
       "      <th>location</th>\n",
       "      <th>target</th>\n",
       "      <th>lemmatize_without_stopwords</th>\n",
       "    </tr>\n",
       "  </thead>\n",
       "  <tbody>\n",
       "    <tr>\n",
       "      <th>0</th>\n",
       "      <td>1</td>\n",
       "      <td>NaN</td>\n",
       "      <td>NaN</td>\n",
       "      <td>1.0</td>\n",
       "      <td>deed reason earthquake may allah forgive us</td>\n",
       "    </tr>\n",
       "    <tr>\n",
       "      <th>1</th>\n",
       "      <td>4</td>\n",
       "      <td>NaN</td>\n",
       "      <td>NaN</td>\n",
       "      <td>1.0</td>\n",
       "      <td>forest fire near la ronge sask canada</td>\n",
       "    </tr>\n",
       "    <tr>\n",
       "      <th>2</th>\n",
       "      <td>5</td>\n",
       "      <td>NaN</td>\n",
       "      <td>NaN</td>\n",
       "      <td>1.0</td>\n",
       "      <td>resident ask shelter place notify officer evac...</td>\n",
       "    </tr>\n",
       "    <tr>\n",
       "      <th>3</th>\n",
       "      <td>6</td>\n",
       "      <td>NaN</td>\n",
       "      <td>NaN</td>\n",
       "      <td>1.0</td>\n",
       "      <td>people receive wildfire evacuation order calif...</td>\n",
       "    </tr>\n",
       "    <tr>\n",
       "      <th>4</th>\n",
       "      <td>7</td>\n",
       "      <td>NaN</td>\n",
       "      <td>NaN</td>\n",
       "      <td>1.0</td>\n",
       "      <td>get sent photo ruby alaska smoke wildfires pou...</td>\n",
       "    </tr>\n",
       "  </tbody>\n",
       "</table>\n",
       "</div>"
      ],
      "text/plain": [
       "   id keyword location  target  \\\n",
       "0   1     NaN      NaN     1.0   \n",
       "1   4     NaN      NaN     1.0   \n",
       "2   5     NaN      NaN     1.0   \n",
       "3   6     NaN      NaN     1.0   \n",
       "4   7     NaN      NaN     1.0   \n",
       "\n",
       "                         lemmatize_without_stopwords  \n",
       "0        deed reason earthquake may allah forgive us  \n",
       "1              forest fire near la ronge sask canada  \n",
       "2  resident ask shelter place notify officer evac...  \n",
       "3  people receive wildfire evacuation order calif...  \n",
       "4  get sent photo ruby alaska smoke wildfires pou...  "
      ]
     },
     "execution_count": 14,
     "metadata": {},
     "output_type": "execute_result"
    }
   ],
   "source": [
    "df = pd.read_csv('C:/Users/mkkma/Downloads/Final_PA2_data.CSV')\n",
    "df.head()"
   ]
  },
  {
   "cell_type": "code",
   "execution_count": 15,
   "metadata": {},
   "outputs": [
    {
     "data": {
      "text/plain": [
       "4522"
      ]
     },
     "execution_count": 15,
     "metadata": {},
     "output_type": "execute_result"
    }
   ],
   "source": [
    "len(df.location.unique())"
   ]
  },
  {
   "cell_type": "code",
   "execution_count": 16,
   "metadata": {},
   "outputs": [],
   "source": [
    "df.drop(['location','keyword'],axis = 1, inplace = True)"
   ]
  },
  {
   "cell_type": "markdown",
   "metadata": {},
   "source": [
    "### Splitting the test and train"
   ]
  },
  {
   "cell_type": "code",
   "execution_count": 17,
   "metadata": {},
   "outputs": [],
   "source": [
    "train = df[0:7612]\n",
    "test = df[7613:10876]"
   ]
  },
  {
   "cell_type": "code",
   "execution_count": 18,
   "metadata": {},
   "outputs": [
    {
     "data": {
      "text/html": [
       "<div>\n",
       "<style scoped>\n",
       "    .dataframe tbody tr th:only-of-type {\n",
       "        vertical-align: middle;\n",
       "    }\n",
       "\n",
       "    .dataframe tbody tr th {\n",
       "        vertical-align: top;\n",
       "    }\n",
       "\n",
       "    .dataframe thead th {\n",
       "        text-align: right;\n",
       "    }\n",
       "</style>\n",
       "<table border=\"1\" class=\"dataframe\">\n",
       "  <thead>\n",
       "    <tr style=\"text-align: right;\">\n",
       "      <th></th>\n",
       "      <th>id</th>\n",
       "      <th>target</th>\n",
       "      <th>lemmatize_without_stopwords</th>\n",
       "    </tr>\n",
       "  </thead>\n",
       "  <tbody>\n",
       "    <tr>\n",
       "      <th>0</th>\n",
       "      <td>1</td>\n",
       "      <td>1.0</td>\n",
       "      <td>deed reason earthquake may allah forgive us</td>\n",
       "    </tr>\n",
       "    <tr>\n",
       "      <th>1</th>\n",
       "      <td>4</td>\n",
       "      <td>1.0</td>\n",
       "      <td>forest fire near la ronge sask canada</td>\n",
       "    </tr>\n",
       "    <tr>\n",
       "      <th>2</th>\n",
       "      <td>5</td>\n",
       "      <td>1.0</td>\n",
       "      <td>resident ask shelter place notify officer evac...</td>\n",
       "    </tr>\n",
       "    <tr>\n",
       "      <th>3</th>\n",
       "      <td>6</td>\n",
       "      <td>1.0</td>\n",
       "      <td>people receive wildfire evacuation order calif...</td>\n",
       "    </tr>\n",
       "    <tr>\n",
       "      <th>4</th>\n",
       "      <td>7</td>\n",
       "      <td>1.0</td>\n",
       "      <td>get sent photo ruby alaska smoke wildfires pou...</td>\n",
       "    </tr>\n",
       "  </tbody>\n",
       "</table>\n",
       "</div>"
      ],
      "text/plain": [
       "   id  target                        lemmatize_without_stopwords\n",
       "0   1     1.0        deed reason earthquake may allah forgive us\n",
       "1   4     1.0              forest fire near la ronge sask canada\n",
       "2   5     1.0  resident ask shelter place notify officer evac...\n",
       "3   6     1.0  people receive wildfire evacuation order calif...\n",
       "4   7     1.0  get sent photo ruby alaska smoke wildfires pou..."
      ]
     },
     "execution_count": 18,
     "metadata": {},
     "output_type": "execute_result"
    }
   ],
   "source": [
    "train.head()"
   ]
  },
  {
   "cell_type": "code",
   "execution_count": 20,
   "metadata": {},
   "outputs": [],
   "source": [
    "train = shuffle(train)"
   ]
  },
  {
   "cell_type": "code",
   "execution_count": 23,
   "metadata": {},
   "outputs": [
    {
     "data": {
      "text/plain": [
       "3270.0"
      ]
     },
     "execution_count": 23,
     "metadata": {},
     "output_type": "execute_result"
    }
   ],
   "source": [
    "train.target.sum()"
   ]
  },
  {
   "cell_type": "markdown",
   "metadata": {},
   "source": [
    "### No class imbalance problem"
   ]
  },
  {
   "cell_type": "code",
   "execution_count": 24,
   "metadata": {},
   "outputs": [
    {
     "data": {
      "text/plain": [
       "23"
      ]
     },
     "execution_count": 24,
     "metadata": {},
     "output_type": "execute_result"
    }
   ],
   "source": [
    "# max len \n",
    "max(train['lemmatize_without_stopwords'].str.split().str.len())"
   ]
  },
  {
   "cell_type": "code",
   "execution_count": 25,
   "metadata": {},
   "outputs": [],
   "source": [
    "# Creating a validation set\n",
    "X = train['lemmatize_without_stopwords']\n",
    "Y = train['target']\n",
    "X_train,X_test,Y_train,Y_test = train_test_split(X,Y,test_size=0.15)"
   ]
  },
  {
   "cell_type": "code",
   "execution_count": 288,
   "metadata": {},
   "outputs": [],
   "source": [
    "max_words = 15000\n",
    "max_len =23\n",
    "tok = Tokenizer(num_words=max_words)\n",
    "tok.fit_on_texts(X_train)\n",
    "sequences = tok.texts_to_sequences(X_train)\n",
    "sequences_matrix = sequence.pad_sequences(sequences,maxlen=max_len)"
   ]
  },
  {
   "cell_type": "code",
   "execution_count": 304,
   "metadata": {},
   "outputs": [],
   "source": [
    "test_sequences = tok.texts_to_sequences(X_test)\n",
    "test_sequences_matrix = sequence.pad_sequences(test_sequences,maxlen=max_len)"
   ]
  },
  {
   "cell_type": "code",
   "execution_count": 320,
   "metadata": {},
   "outputs": [],
   "source": [
    "def RNN():\n",
    "    inputs = Input(name='inputs',shape=[max_len])\n",
    "    layer = Embedding(max_words,50,input_length=max_len)(inputs)\n",
    "    layer = LSTM(64)(layer)\n",
    "    layer = Dense(256,name='FC1')(layer)\n",
    "    layer = Activation('relu')(layer)\n",
    "    layer = Dropout(0.5)(layer)\n",
    "    layer = Dense(1,name='out_layer')(layer)\n",
    "    layer = Activation('sigmoid')(layer)\n",
    "    model = Model(inputs=inputs,outputs=layer)\n",
    "    return model"
   ]
  },
  {
   "cell_type": "code",
   "execution_count": 347,
   "metadata": {},
   "outputs": [
    {
     "name": "stdout",
     "output_type": "stream",
     "text": [
      "Model: \"model_43\"\n",
      "_________________________________________________________________\n",
      "Layer (type)                 Output Shape              Param #   \n",
      "=================================================================\n",
      "inputs (InputLayer)          (None, 23)                0         \n",
      "_________________________________________________________________\n",
      "embedding_47 (Embedding)     (None, 23, 50)            750000    \n",
      "_________________________________________________________________\n",
      "lstm_49 (LSTM)               (None, 64)                29440     \n",
      "_________________________________________________________________\n",
      "FC1 (Dense)                  (None, 256)               16640     \n",
      "_________________________________________________________________\n",
      "activation_89 (Activation)   (None, 256)               0         \n",
      "_________________________________________________________________\n",
      "dropout_47 (Dropout)         (None, 256)               0         \n",
      "_________________________________________________________________\n",
      "out_layer (Dense)            (None, 1)                 257       \n",
      "_________________________________________________________________\n",
      "activation_90 (Activation)   (None, 1)                 0         \n",
      "=================================================================\n",
      "Total params: 796,337\n",
      "Trainable params: 796,337\n",
      "Non-trainable params: 0\n",
      "_________________________________________________________________\n"
     ]
    }
   ],
   "source": [
    "model = RNN()\n",
    "model.summary()\n",
    "model.compile(loss='binary_crossentropy',optimizer=RMSprop(lr = 0.0001),metrics=['accuracy'])"
   ]
  },
  {
   "cell_type": "code",
   "execution_count": 322,
   "metadata": {},
   "outputs": [],
   "source": [
    "# Function to show the loss plot of training and validation set\n",
    "def loss(history):\n",
    "    plt.plot(history.history['loss'])\n",
    "    plt.plot(history.history['val_loss'])\n",
    "    plt.title('Model loss')\n",
    "    plt.ylabel('Loss')\n",
    "    plt.xlabel('Epoch')\n",
    "    plt.legend(['Train', 'Test'], loc='upper left')\n",
    "    plt.show()"
   ]
  },
  {
   "cell_type": "code",
   "execution_count": 323,
   "metadata": {},
   "outputs": [
    {
     "name": "stdout",
     "output_type": "stream",
     "text": [
      "Train on 6470 samples, validate on 1142 samples\n",
      "Epoch 1/20\n",
      "6470/6470 [==============================] - 4s 627us/step - loss: 0.6874 - accuracy: 0.5716 - val_loss: 0.6813 - val_accuracy: 0.5648\n",
      "Epoch 2/20\n",
      "6470/6470 [==============================] - 4s 556us/step - loss: 0.6763 - accuracy: 0.5714 - val_loss: 0.6731 - val_accuracy: 0.5648\n",
      "Epoch 3/20\n",
      "6470/6470 [==============================] - 4s 555us/step - loss: 0.6681 - accuracy: 0.5714 - val_loss: 0.6654 - val_accuracy: 0.5648\n",
      "Epoch 4/20\n",
      "6470/6470 [==============================] - 3s 532us/step - loss: 0.6558 - accuracy: 0.5750 - val_loss: 0.6503 - val_accuracy: 0.5797\n",
      "Epoch 5/20\n",
      "6470/6470 [==============================] - 3s 436us/step - loss: 0.6360 - accuracy: 0.6161 - val_loss: 0.6324 - val_accuracy: 0.6261\n",
      "Epoch 6/20\n",
      "6470/6470 [==============================] - 3s 439us/step - loss: 0.6084 - accuracy: 0.6912 - val_loss: 0.6050 - val_accuracy: 0.6821\n",
      "Epoch 7/20\n",
      "6470/6470 [==============================] - 4s 556us/step - loss: 0.5717 - accuracy: 0.7530 - val_loss: 0.5755 - val_accuracy: 0.7084\n",
      "Epoch 8/20\n",
      "6470/6470 [==============================] - 4s 559us/step - loss: 0.5258 - accuracy: 0.7943 - val_loss: 0.5506 - val_accuracy: 0.7382\n",
      "Epoch 9/20\n",
      "6470/6470 [==============================] - 3s 518us/step - loss: 0.4721 - accuracy: 0.8187 - val_loss: 0.5029 - val_accuracy: 0.7741\n",
      "Epoch 10/20\n",
      "6470/6470 [==============================] - 3s 432us/step - loss: 0.4211 - accuracy: 0.8352 - val_loss: 0.4771 - val_accuracy: 0.7846\n",
      "Epoch 11/20\n",
      "6470/6470 [==============================] - 3s 447us/step - loss: 0.3758 - accuracy: 0.8470 - val_loss: 0.4808 - val_accuracy: 0.7890\n",
      "Epoch 12/20\n",
      "6470/6470 [==============================] - 4s 560us/step - loss: 0.3484 - accuracy: 0.8590 - val_loss: 0.4659 - val_accuracy: 0.7925\n",
      "Epoch 13/20\n",
      "6470/6470 [==============================] - 4s 563us/step - loss: 0.3246 - accuracy: 0.8691 - val_loss: 0.4722 - val_accuracy: 0.7933\n",
      "Epoch 14/20\n",
      "6470/6470 [==============================] - 3s 513us/step - loss: 0.3122 - accuracy: 0.8757 - val_loss: 0.4789 - val_accuracy: 0.8047\n",
      "Epoch 15/20\n",
      "6470/6470 [==============================] - 3s 438us/step - loss: 0.2943 - accuracy: 0.8827 - val_loss: 0.4860 - val_accuracy: 0.7986\n",
      "Epoch 16/20\n",
      "6470/6470 [==============================] - 3s 462us/step - loss: 0.2770 - accuracy: 0.8909 - val_loss: 0.5036 - val_accuracy: 0.8030\n",
      "Epoch 17/20\n",
      "6470/6470 [==============================] - 4s 566us/step - loss: 0.2644 - accuracy: 0.8966 - val_loss: 0.5925 - val_accuracy: 0.7820\n",
      "Epoch 18/20\n",
      "6470/6470 [==============================] - 4s 566us/step - loss: 0.2544 - accuracy: 0.9031 - val_loss: 0.5357 - val_accuracy: 0.8004\n",
      "Epoch 19/20\n",
      "6470/6470 [==============================] - 3s 491us/step - loss: 0.2395 - accuracy: 0.9085 - val_loss: 0.5161 - val_accuracy: 0.7995\n",
      "Epoch 20/20\n",
      "6470/6470 [==============================] - 3s 438us/step - loss: 0.2275 - accuracy: 0.9125 - val_loss: 0.5265 - val_accuracy: 0.8004\n"
     ]
    },
    {
     "data": {
      "image/png": "[encoded data removed]",
      "text/plain": [
       "<Figure size 432x288 with 1 Axes>"
      ]
     },
     "metadata": {
      "needs_background": "light"
     },
     "output_type": "display_data"
    }
   ],
   "source": [
    "lstm_model =model.fit(sequences_matrix,Y_train,batch_size=128,epochs=20,validation_data=(test_sequences_matrix, Y_test))\n",
    "loss(lstm_model)"
   ]
  },
  {
   "cell_type": "markdown",
   "metadata": {},
   "source": [
    "### From this loss plot it appears epoch = 15 is the best "
   ]
  },
  {
   "cell_type": "code",
   "execution_count": 348,
   "metadata": {},
   "outputs": [
    {
     "name": "stdout",
     "output_type": "stream",
     "text": [
      "Train on 6470 samples, validate on 1142 samples\n",
      "Epoch 1/15\n",
      "6470/6470 [==============================] - 5s 780us/step - loss: 0.6881 - accuracy: 0.5629 - val_loss: 0.6820 - val_accuracy: 0.5648\n",
      "Epoch 2/15\n",
      "6470/6470 [==============================] - 4s 606us/step - loss: 0.6773 - accuracy: 0.5714 - val_loss: 0.6743 - val_accuracy: 0.5648\n",
      "Epoch 3/15\n",
      "6470/6470 [==============================] - 3s 488us/step - loss: 0.6698 - accuracy: 0.5714 - val_loss: 0.6660 - val_accuracy: 0.5648\n",
      "Epoch 4/15\n",
      "6470/6470 [==============================] - 3s 482us/step - loss: 0.6583 - accuracy: 0.5730 - val_loss: 0.6532 - val_accuracy: 0.5806\n",
      "Epoch 5/15\n",
      "6470/6470 [==============================] - 4s 597us/step - loss: 0.6417 - accuracy: 0.6083 - val_loss: 0.6352 - val_accuracy: 0.6252\n",
      "Epoch 6/15\n",
      "6470/6470 [==============================] - 4s 610us/step - loss: 0.6160 - accuracy: 0.6790 - val_loss: 0.6105 - val_accuracy: 0.6769\n",
      "Epoch 7/15\n",
      "6470/6470 [==============================] - 4s 557us/step - loss: 0.5825 - accuracy: 0.7459 - val_loss: 0.5809 - val_accuracy: 0.7137\n",
      "Epoch 8/15\n",
      "6470/6470 [==============================] - 3s 482us/step - loss: 0.5358 - accuracy: 0.7832 - val_loss: 0.5509 - val_accuracy: 0.7382\n",
      "Epoch 9/15\n",
      "6470/6470 [==============================] - 4s 544us/step - loss: 0.4835 - accuracy: 0.8153 - val_loss: 0.4986 - val_accuracy: 0.7828\n",
      "Epoch 10/15\n",
      "6470/6470 [==============================] - 4s 665us/step - loss: 0.4312 - accuracy: 0.8337 - val_loss: 0.5214 - val_accuracy: 0.7609\n",
      "Epoch 11/15\n",
      "6470/6470 [==============================] - 4s 615us/step - loss: 0.3827 - accuracy: 0.8462 - val_loss: 0.4844 - val_accuracy: 0.7837\n",
      "Epoch 12/15\n",
      "6470/6470 [==============================] - 3s 496us/step - loss: 0.3528 - accuracy: 0.8601 - val_loss: 0.4749 - val_accuracy: 0.7942\n",
      "Epoch 13/15\n",
      "6470/6470 [==============================] - 3s 506us/step - loss: 0.3301 - accuracy: 0.8654 - val_loss: 0.5042 - val_accuracy: 0.7890\n",
      "Epoch 14/15\n",
      "6470/6470 [==============================] - 4s 615us/step - loss: 0.3116 - accuracy: 0.8779 - val_loss: 0.4616 - val_accuracy: 0.7968\n",
      "Epoch 15/15\n",
      "6470/6470 [==============================] - 4s 618us/step - loss: 0.2947 - accuracy: 0.8833 - val_loss: 0.4687 - val_accuracy: 0.8004\n"
     ]
    },
    {
     "data": {
      "image/png": "[encoded data removed]",
      "text/plain": [
       "<Figure size 432x288 with 1 Axes>"
      ]
     },
     "metadata": {
      "needs_background": "light"
     },
     "output_type": "display_data"
    }
   ],
   "source": [
    "lstm_model =model.fit(sequences_matrix,Y_train,batch_size=128,epochs=15,validation_data=(test_sequences_matrix, Y_test))\n",
    "loss(lstm_model)"
   ]
  },
  {
   "cell_type": "code",
   "execution_count": 349,
   "metadata": {},
   "outputs": [
    {
     "name": "stdout",
     "output_type": "stream",
     "text": [
      "1142/1142 [==============================] - 0s 279us/step\n"
     ]
    }
   ],
   "source": [
    "accr = model.evaluate(test_sequences_matrix,Y_test)"
   ]
  },
  {
   "cell_type": "code",
   "execution_count": 350,
   "metadata": {},
   "outputs": [
    {
     "data": {
      "text/plain": [
       "[0.468724530862217, 0.8003502488136292]"
      ]
     },
     "execution_count": 350,
     "metadata": {},
     "output_type": "execute_result"
    }
   ],
   "source": [
    "accr"
   ]
  },
  {
   "cell_type": "code",
   "execution_count": 351,
   "metadata": {},
   "outputs": [],
   "source": [
    "Y_pred = model.predict(test_sequences_matrix)\n",
    "Y_pred = [1 if i>0.5 else 0 for i in Y_pred]"
   ]
  },
  {
   "cell_type": "code",
   "execution_count": 352,
   "metadata": {},
   "outputs": [
    {
     "data": {
      "text/plain": [
       "0.8003502626970228"
      ]
     },
     "execution_count": 352,
     "metadata": {},
     "output_type": "execute_result"
    }
   ],
   "source": [
    "f1_score(Y_test, Y_pred, average='micro')"
   ]
  },
  {
   "cell_type": "markdown",
   "metadata": {},
   "source": [
    "### A learning rate decay might improve the performance"
   ]
  },
  {
   "cell_type": "code",
   "execution_count": null,
   "metadata": {},
   "outputs": [],
   "source": []
  }
 ],
 "metadata": {
  "kernelspec": {
   "display_name": "Python 3",
   "language": "python",
   "name": "python3"
  },
  "language_info": {
   "codemirror_mode": {
    "name": "ipython",
    "version": 3
   },
   "file_extension": ".py",
   "mimetype": "text/x-python",
   "name": "python",
   "nbconvert_exporter": "python",
   "pygments_lexer": "ipython3",
   "version": "3.7.3"
  }
 },
 "nbformat": 4,
 "nbformat_minor": 2
}
