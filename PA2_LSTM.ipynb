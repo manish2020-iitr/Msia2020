{
 "cells": [
  {
   "cell_type": "code",
   "execution_count": 2,
   "metadata": {},
   "outputs": [
    {
     "name": "stderr",
     "output_type": "stream",
     "text": [
      "Using TensorFlow backend.\n"
     ]
    }
   ],
   "source": [
    "import pandas as pd\n",
    "import numpy as np\n",
    "import matplotlib.pyplot as plt\n",
    "import seaborn as sns\n",
    "from sklearn.model_selection import train_test_split\n",
    "from sklearn.preprocessing import LabelEncoder\n",
    "from keras.models import Model\n",
    "from keras.layers import LSTM, Activation, Dense, Dropout, Input, Embedding\n",
    "from keras.optimizers import RMSprop\n",
    "from keras.preprocessing.text import Tokenizer\n",
    "from keras.preprocessing import sequence\n",
    "from keras.utils import to_categorical\n",
    "from keras.callbacks import EarlyStopping\n",
    "from sklearn.utils import shuffle\n",
    "from sklearn.metrics import f1_score\n",
    "from keras.models import Sequential\n",
    "from sklearn.model_selection import GridSearchCV\n",
    "%matplotlib inline"
   ]
  },
  {
   "cell_type": "code",
   "execution_count": 3,
   "metadata": {},
   "outputs": [
    {
     "data": {
      "text/html": [
       "<div>\n",
       "<style scoped>\n",
       "    .dataframe tbody tr th:only-of-type {\n",
       "        vertical-align: middle;\n",
       "    }\n",
       "\n",
       "    .dataframe tbody tr th {\n",
       "        vertical-align: top;\n",
       "    }\n",
       "\n",
       "    .dataframe thead th {\n",
       "        text-align: right;\n",
       "    }\n",
       "</style>\n",
       "<table border=\"1\" class=\"dataframe\">\n",
       "  <thead>\n",
       "    <tr style=\"text-align: right;\">\n",
       "      <th></th>\n",
       "      <th>id</th>\n",
       "      <th>keyword</th>\n",
       "      <th>location</th>\n",
       "      <th>target</th>\n",
       "      <th>lemmatize_without_stopwords</th>\n",
       "    </tr>\n",
       "  </thead>\n",
       "  <tbody>\n",
       "    <tr>\n",
       "      <th>0</th>\n",
       "      <td>1</td>\n",
       "      <td>NaN</td>\n",
       "      <td>NaN</td>\n",
       "      <td>1.0</td>\n",
       "      <td>deed reason earthquake may allah forgive us</td>\n",
       "    </tr>\n",
       "    <tr>\n",
       "      <th>1</th>\n",
       "      <td>4</td>\n",
       "      <td>NaN</td>\n",
       "      <td>NaN</td>\n",
       "      <td>1.0</td>\n",
       "      <td>forest fire near la ronge sask canada</td>\n",
       "    </tr>\n",
       "    <tr>\n",
       "      <th>2</th>\n",
       "      <td>5</td>\n",
       "      <td>NaN</td>\n",
       "      <td>NaN</td>\n",
       "      <td>1.0</td>\n",
       "      <td>resident ask shelter place notify officer evac...</td>\n",
       "    </tr>\n",
       "    <tr>\n",
       "      <th>3</th>\n",
       "      <td>6</td>\n",
       "      <td>NaN</td>\n",
       "      <td>NaN</td>\n",
       "      <td>1.0</td>\n",
       "      <td>people receive wildfire evacuation order calif...</td>\n",
       "    </tr>\n",
       "    <tr>\n",
       "      <th>4</th>\n",
       "      <td>7</td>\n",
       "      <td>NaN</td>\n",
       "      <td>NaN</td>\n",
       "      <td>1.0</td>\n",
       "      <td>get sent photo ruby alaska smoke wildfires pou...</td>\n",
       "    </tr>\n",
       "  </tbody>\n",
       "</table>\n",
       "</div>"
      ],
      "text/plain": [
       "   id keyword location  target  \\\n",
       "0   1     NaN      NaN     1.0   \n",
       "1   4     NaN      NaN     1.0   \n",
       "2   5     NaN      NaN     1.0   \n",
       "3   6     NaN      NaN     1.0   \n",
       "4   7     NaN      NaN     1.0   \n",
       "\n",
       "                         lemmatize_without_stopwords  \n",
       "0        deed reason earthquake may allah forgive us  \n",
       "1              forest fire near la ronge sask canada  \n",
       "2  resident ask shelter place notify officer evac...  \n",
       "3  people receive wildfire evacuation order calif...  \n",
       "4  get sent photo ruby alaska smoke wildfires pou...  "
      ]
     },
     "execution_count": 3,
     "metadata": {},
     "output_type": "execute_result"
    }
   ],
   "source": [
    "df = pd.read_csv('C:/Users/mkkma/Downloads/Final_PA2_data.CSV')\n",
    "df.head()"
   ]
  },
  {
   "cell_type": "code",
   "execution_count": 4,
   "metadata": {},
   "outputs": [
    {
     "data": {
      "text/plain": [
       "4522"
      ]
     },
     "execution_count": 4,
     "metadata": {},
     "output_type": "execute_result"
    }
   ],
   "source": [
    "len(df.location.unique())"
   ]
  },
  {
   "cell_type": "code",
   "execution_count": 5,
   "metadata": {},
   "outputs": [],
   "source": [
    "df.drop(['location','keyword'],axis = 1, inplace = True)"
   ]
  },
  {
   "cell_type": "markdown",
   "metadata": {},
   "source": [
    "### Splitting the test and train"
   ]
  },
  {
   "cell_type": "code",
   "execution_count": 6,
   "metadata": {},
   "outputs": [],
   "source": [
    "train = df[0:7612]\n",
    "test = df[7613:10876]"
   ]
  },
  {
   "cell_type": "code",
   "execution_count": 7,
   "metadata": {},
   "outputs": [
    {
     "data": {
      "text/html": [
       "<div>\n",
       "<style scoped>\n",
       "    .dataframe tbody tr th:only-of-type {\n",
       "        vertical-align: middle;\n",
       "    }\n",
       "\n",
       "    .dataframe tbody tr th {\n",
       "        vertical-align: top;\n",
       "    }\n",
       "\n",
       "    .dataframe thead th {\n",
       "        text-align: right;\n",
       "    }\n",
       "</style>\n",
       "<table border=\"1\" class=\"dataframe\">\n",
       "  <thead>\n",
       "    <tr style=\"text-align: right;\">\n",
       "      <th></th>\n",
       "      <th>id</th>\n",
       "      <th>target</th>\n",
       "      <th>lemmatize_without_stopwords</th>\n",
       "    </tr>\n",
       "  </thead>\n",
       "  <tbody>\n",
       "    <tr>\n",
       "      <th>0</th>\n",
       "      <td>1</td>\n",
       "      <td>1.0</td>\n",
       "      <td>deed reason earthquake may allah forgive us</td>\n",
       "    </tr>\n",
       "    <tr>\n",
       "      <th>1</th>\n",
       "      <td>4</td>\n",
       "      <td>1.0</td>\n",
       "      <td>forest fire near la ronge sask canada</td>\n",
       "    </tr>\n",
       "    <tr>\n",
       "      <th>2</th>\n",
       "      <td>5</td>\n",
       "      <td>1.0</td>\n",
       "      <td>resident ask shelter place notify officer evac...</td>\n",
       "    </tr>\n",
       "    <tr>\n",
       "      <th>3</th>\n",
       "      <td>6</td>\n",
       "      <td>1.0</td>\n",
       "      <td>people receive wildfire evacuation order calif...</td>\n",
       "    </tr>\n",
       "    <tr>\n",
       "      <th>4</th>\n",
       "      <td>7</td>\n",
       "      <td>1.0</td>\n",
       "      <td>get sent photo ruby alaska smoke wildfires pou...</td>\n",
       "    </tr>\n",
       "  </tbody>\n",
       "</table>\n",
       "</div>"
      ],
      "text/plain": [
       "   id  target                        lemmatize_without_stopwords\n",
       "0   1     1.0        deed reason earthquake may allah forgive us\n",
       "1   4     1.0              forest fire near la ronge sask canada\n",
       "2   5     1.0  resident ask shelter place notify officer evac...\n",
       "3   6     1.0  people receive wildfire evacuation order calif...\n",
       "4   7     1.0  get sent photo ruby alaska smoke wildfires pou..."
      ]
     },
     "execution_count": 7,
     "metadata": {},
     "output_type": "execute_result"
    }
   ],
   "source": [
    "train.head()"
   ]
  },
  {
   "cell_type": "code",
   "execution_count": 8,
   "metadata": {},
   "outputs": [],
   "source": [
    "train = shuffle(train)"
   ]
  },
  {
   "cell_type": "code",
   "execution_count": 9,
   "metadata": {},
   "outputs": [
    {
     "data": {
      "text/plain": [
       "3270.0"
      ]
     },
     "execution_count": 9,
     "metadata": {},
     "output_type": "execute_result"
    }
   ],
   "source": [
    "train.target.sum()"
   ]
  },
  {
   "cell_type": "markdown",
   "metadata": {},
   "source": [
    "### No class imbalance problem"
   ]
  },
  {
   "cell_type": "code",
   "execution_count": 10,
   "metadata": {},
   "outputs": [
    {
     "data": {
      "text/plain": [
       "23"
      ]
     },
     "execution_count": 10,
     "metadata": {},
     "output_type": "execute_result"
    }
   ],
   "source": [
    "# max len \n",
    "max(train['lemmatize_without_stopwords'].str.split().str.len())"
   ]
  },
  {
   "cell_type": "code",
   "execution_count": 11,
   "metadata": {},
   "outputs": [],
   "source": [
    "# Creating a validation set\n",
    "X = train['lemmatize_without_stopwords']\n",
    "Y = train['target']\n",
    "X_train,X_test,Y_train,Y_test = train_test_split(X,Y,test_size=0.15)"
   ]
  },
  {
   "cell_type": "code",
   "execution_count": 12,
   "metadata": {},
   "outputs": [],
   "source": [
    "max_words = 15000\n",
    "max_len =23\n",
    "tok = Tokenizer(num_words=max_words)\n",
    "tok.fit_on_texts(X_train)\n",
    "sequences = tok.texts_to_sequences(X_train)\n",
    "sequences_matrix = sequence.pad_sequences(sequences,maxlen=max_len)"
   ]
  },
  {
   "cell_type": "code",
   "execution_count": 13,
   "metadata": {},
   "outputs": [
    {
     "data": {
      "text/plain": [
       "array([[    0,     0,     0, ...,   902,   519,  3309],\n",
       "       [    0,     0,     0, ...,   235,   604,   141],\n",
       "       [    0,     0,     0, ...,     1,   202,   202],\n",
       "       ...,\n",
       "       [    0,     0,     0, ...,   765,   197,   215],\n",
       "       [    0,     0,     0, ...,   814,   159,   984],\n",
       "       [    0,     0,     0, ...,   436, 13489,  4292]])"
      ]
     },
     "execution_count": 13,
     "metadata": {},
     "output_type": "execute_result"
    }
   ],
   "source": [
    "sequences_matrix"
   ]
  },
  {
   "cell_type": "code",
   "execution_count": 13,
   "metadata": {},
   "outputs": [],
   "source": [
    "test_sequences = tok.texts_to_sequences(X_test)\n",
    "test_sequences_matrix = sequence.pad_sequences(test_sequences,maxlen=max_len)"
   ]
  },
  {
   "cell_type": "code",
   "execution_count": 54,
   "metadata": {},
   "outputs": [],
   "source": [
    "def RNN():\n",
    "    inputs = Input(name='inputs',shape=[max_len])\n",
    "    layer = Embedding(max_words,50,input_length=max_len)(inputs)\n",
    "    layer = LSTM(64,kernel_initializer='random_uniform',)(layer)\n",
    "    layer = Dense(256,name='FC1',kernel_initializer='random_uniform',)(layer)\n",
    "    layer = Activation('relu')(layer)\n",
    "    layer = Dropout(0.5)(layer)\n",
    "    layer = Dense(1,name='out_layer')(layer)\n",
    "    layer = Activation('sigmoid')(layer)\n",
    "    model = Model(inputs=inputs,outputs=layer)\n",
    "    return model"
   ]
  },
  {
   "cell_type": "code",
   "execution_count": 55,
   "metadata": {},
   "outputs": [
    {
     "name": "stdout",
     "output_type": "stream",
     "text": [
      "Model: \"model_25\"\n",
      "_________________________________________________________________\n",
      "Layer (type)                 Output Shape              Param #   \n",
      "=================================================================\n",
      "inputs (InputLayer)          (None, 23)                0         \n",
      "_________________________________________________________________\n",
      "embedding_25 (Embedding)     (None, 23, 50)            750000    \n",
      "_________________________________________________________________\n",
      "lstm_25 (LSTM)               (None, 64)                29440     \n",
      "_________________________________________________________________\n",
      "FC1 (Dense)                  (None, 256)               16640     \n",
      "_________________________________________________________________\n",
      "activation_49 (Activation)   (None, 256)               0         \n",
      "_________________________________________________________________\n",
      "dropout_25 (Dropout)         (None, 256)               0         \n",
      "_________________________________________________________________\n",
      "out_layer (Dense)            (None, 1)                 257       \n",
      "_________________________________________________________________\n",
      "activation_50 (Activation)   (None, 1)                 0         \n",
      "=================================================================\n",
      "Total params: 796,337\n",
      "Trainable params: 796,337\n",
      "Non-trainable params: 0\n",
      "_________________________________________________________________\n"
     ]
    }
   ],
   "source": [
    "model = RNN()\n",
    "model.summary()\n",
    "model.compile(loss='binary_crossentropy',optimizer=RMSprop(lr = 0.0001),metrics=['accuracy'])"
   ]
  },
  {
   "cell_type": "code",
   "execution_count": 56,
   "metadata": {},
   "outputs": [],
   "source": [
    "# Function to show the loss plot of training and validation set\n",
    "def loss(history):\n",
    "    plt.plot(history.history['loss'])\n",
    "    plt.plot(history.history['val_loss'])\n",
    "    plt.title('Model loss')\n",
    "    plt.ylabel('Loss')\n",
    "    plt.xlabel('Epoch')\n",
    "    plt.legend(['Train', 'Test'], loc='upper left')\n",
    "    plt.show()"
   ]
  },
  {
   "cell_type": "code",
   "execution_count": 57,
   "metadata": {},
   "outputs": [
    {
     "name": "stdout",
     "output_type": "stream",
     "text": [
      "Train on 6470 samples, validate on 1142 samples\n",
      "Epoch 1/20\n",
      "6470/6470 [==============================] - 4s 568us/step - loss: 0.6898 - accuracy: 0.5699 - val_loss: 0.6862 - val_accuracy: 0.5595\n",
      "Epoch 2/20\n",
      "6470/6470 [==============================] - 3s 408us/step - loss: 0.6796 - accuracy: 0.5723 - val_loss: 0.6801 - val_accuracy: 0.5595\n",
      "Epoch 3/20\n",
      "6470/6470 [==============================] - 3s 410us/step - loss: 0.6732 - accuracy: 0.5723 - val_loss: 0.6748 - val_accuracy: 0.5595\n",
      "Epoch 4/20\n",
      "6470/6470 [==============================] - 3s 412us/step - loss: 0.6639 - accuracy: 0.5723 - val_loss: 0.6662 - val_accuracy: 0.5595\n",
      "Epoch 5/20\n",
      "6470/6470 [==============================] - 3s 425us/step - loss: 0.6469 - accuracy: 0.5869 - val_loss: 0.6508 - val_accuracy: 0.5858\n",
      "Epoch 6/20\n",
      "6470/6470 [==============================] - 3s 397us/step - loss: 0.6196 - accuracy: 0.6648 - val_loss: 0.6286 - val_accuracy: 0.6550\n",
      "Epoch 7/20\n",
      "6470/6470 [==============================] - 3s 392us/step - loss: 0.5846 - accuracy: 0.7391 - val_loss: 0.5980 - val_accuracy: 0.7145\n",
      "Epoch 8/20\n",
      "6470/6470 [==============================] - 2s 385us/step - loss: 0.5378 - accuracy: 0.7867 - val_loss: 0.5893 - val_accuracy: 0.7224\n",
      "Epoch 9/20\n",
      "6470/6470 [==============================] - 3s 404us/step - loss: 0.4858 - accuracy: 0.8074 - val_loss: 0.5417 - val_accuracy: 0.7478\n",
      "Epoch 10/20\n",
      "6470/6470 [==============================] - 3s 408us/step - loss: 0.4352 - accuracy: 0.8260 - val_loss: 0.5085 - val_accuracy: 0.7680\n",
      "Epoch 11/20\n",
      "6470/6470 [==============================] - 3s 417us/step - loss: 0.3933 - accuracy: 0.8416 - val_loss: 0.5216 - val_accuracy: 0.7644\n",
      "Epoch 12/20\n",
      "6470/6470 [==============================] - 3s 430us/step - loss: 0.3649 - accuracy: 0.8521 - val_loss: 0.5156 - val_accuracy: 0.7741\n",
      "Epoch 13/20\n",
      "6470/6470 [==============================] - 3s 395us/step - loss: 0.3430 - accuracy: 0.8663 - val_loss: 0.5360 - val_accuracy: 0.7680\n",
      "Epoch 14/20\n",
      "6470/6470 [==============================] - 3s 407us/step - loss: 0.3249 - accuracy: 0.8702 - val_loss: 0.5118 - val_accuracy: 0.7688\n",
      "Epoch 15/20\n",
      "6470/6470 [==============================] - 3s 400us/step - loss: 0.3132 - accuracy: 0.8709 - val_loss: 0.5082 - val_accuracy: 0.7837\n",
      "Epoch 16/20\n",
      "6470/6470 [==============================] - 2s 385us/step - loss: 0.2973 - accuracy: 0.8810 - val_loss: 0.5733 - val_accuracy: 0.7671\n",
      "Epoch 17/20\n",
      "6470/6470 [==============================] - 2s 385us/step - loss: 0.2840 - accuracy: 0.8841 - val_loss: 0.5452 - val_accuracy: 0.7732\n",
      "Epoch 18/20\n",
      "6470/6470 [==============================] - 3s 423us/step - loss: 0.2718 - accuracy: 0.8912 - val_loss: 0.5332 - val_accuracy: 0.7758\n",
      "Epoch 19/20\n",
      "6470/6470 [==============================] - 3s 410us/step - loss: 0.2577 - accuracy: 0.8951 - val_loss: 0.6021 - val_accuracy: 0.7688\n",
      "Epoch 20/20\n",
      "6470/6470 [==============================] - 3s 414us/step - loss: 0.2467 - accuracy: 0.8994 - val_loss: 0.5376 - val_accuracy: 0.7671\n"
     ]
    },
    {
     "data": {
      "image/png": "[encoded data removed]",
      "text/plain": [
       "<Figure size 432x288 with 1 Axes>"
      ]
     },
     "metadata": {
      "needs_background": "light"
     },
     "output_type": "display_data"
    }
   ],
   "source": [
    "lstm_model =model.fit(sequences_matrix,Y_train,batch_size=128,epochs=20,validation_data=(test_sequences_matrix, Y_test))\n",
    "loss(lstm_model)"
   ]
  },
  {
   "cell_type": "markdown",
   "metadata": {},
   "source": [
    "### From this loss plot it appears epoch = 15 is the best "
   ]
  },
  {
   "cell_type": "code",
   "execution_count": 58,
   "metadata": {},
   "outputs": [
    {
     "name": "stdout",
     "output_type": "stream",
     "text": [
      "Model: \"model_26\"\n",
      "_________________________________________________________________\n",
      "Layer (type)                 Output Shape              Param #   \n",
      "=================================================================\n",
      "inputs (InputLayer)          (None, 23)                0         \n",
      "_________________________________________________________________\n",
      "embedding_26 (Embedding)     (None, 23, 50)            750000    \n",
      "_________________________________________________________________\n",
      "lstm_26 (LSTM)               (None, 64)                29440     \n",
      "_________________________________________________________________\n",
      "FC1 (Dense)                  (None, 256)               16640     \n",
      "_________________________________________________________________\n",
      "activation_51 (Activation)   (None, 256)               0         \n",
      "_________________________________________________________________\n",
      "dropout_26 (Dropout)         (None, 256)               0         \n",
      "_________________________________________________________________\n",
      "out_layer (Dense)            (None, 1)                 257       \n",
      "_________________________________________________________________\n",
      "activation_52 (Activation)   (None, 1)                 0         \n",
      "=================================================================\n",
      "Total params: 796,337\n",
      "Trainable params: 796,337\n",
      "Non-trainable params: 0\n",
      "_________________________________________________________________\n",
      "Train on 6470 samples, validate on 1142 samples\n",
      "Epoch 1/15\n",
      "6470/6470 [==============================] - 4s 571us/step - loss: 0.6898 - accuracy: 0.5709 - val_loss: 0.6863 - val_accuracy: 0.5595\n",
      "Epoch 2/15\n",
      "6470/6470 [==============================] - 3s 419us/step - loss: 0.6804 - accuracy: 0.5723 - val_loss: 0.6804 - val_accuracy: 0.5595\n",
      "Epoch 3/15\n",
      "6470/6470 [==============================] - 3s 416us/step - loss: 0.6740 - accuracy: 0.5723 - val_loss: 0.6771 - val_accuracy: 0.5595\n",
      "Epoch 4/15\n",
      "6470/6470 [==============================] - 3s 447us/step - loss: 0.6676 - accuracy: 0.5723 - val_loss: 0.6695 - val_accuracy: 0.5595\n",
      "Epoch 5/15\n",
      "6470/6470 [==============================] - 3s 455us/step - loss: 0.6553 - accuracy: 0.5743 - val_loss: 0.6587 - val_accuracy: 0.5657\n",
      "Epoch 6/15\n",
      "6470/6470 [==============================] - 3s 444us/step - loss: 0.6348 - accuracy: 0.6172 - val_loss: 0.6403 - val_accuracy: 0.6103\n",
      "Epoch 7/15\n",
      "6470/6470 [==============================] - 3s 430us/step - loss: 0.6059 - accuracy: 0.6864 - val_loss: 0.6194 - val_accuracy: 0.6602\n",
      "Epoch 8/15\n",
      "6470/6470 [==============================] - 3s 431us/step - loss: 0.5683 - accuracy: 0.7473 - val_loss: 0.6009 - val_accuracy: 0.6996\n",
      "Epoch 9/15\n",
      "6470/6470 [==============================] - 3s 424us/step - loss: 0.5212 - accuracy: 0.7917 - val_loss: 0.5610 - val_accuracy: 0.7364\n",
      "Epoch 10/15\n",
      "6470/6470 [==============================] - 3s 431us/step - loss: 0.4737 - accuracy: 0.8164 - val_loss: 0.5237 - val_accuracy: 0.7566\n",
      "Epoch 11/15\n",
      "6470/6470 [==============================] - 3s 423us/step - loss: 0.4264 - accuracy: 0.8349 - val_loss: 0.5431 - val_accuracy: 0.7548\n",
      "Epoch 12/15\n",
      "6470/6470 [==============================] - 3s 454us/step - loss: 0.3877 - accuracy: 0.8461 - val_loss: 0.4967 - val_accuracy: 0.7741\n",
      "Epoch 13/15\n",
      "6470/6470 [==============================] - 3s 419us/step - loss: 0.3564 - accuracy: 0.8567 - val_loss: 0.5519 - val_accuracy: 0.7609\n",
      "Epoch 14/15\n",
      "6470/6470 [==============================] - 3s 411us/step - loss: 0.3380 - accuracy: 0.8658 - val_loss: 0.5066 - val_accuracy: 0.7828\n",
      "Epoch 15/15\n",
      "6470/6470 [==============================] - 3s 411us/step - loss: 0.3189 - accuracy: 0.8733 - val_loss: 0.4981 - val_accuracy: 0.7846\n"
     ]
    },
    {
     "data": {
      "image/png": "[encoded data removed]",
      "text/plain": [
       "<Figure size 432x288 with 1 Axes>"
      ]
     },
     "metadata": {
      "needs_background": "light"
     },
     "output_type": "display_data"
    }
   ],
   "source": [
    "model = RNN()\n",
    "model.summary()\n",
    "model.compile(loss='binary_crossentropy',optimizer=RMSprop(lr = 0.0001),metrics=['accuracy'])\n",
    "lstm_model =model.fit(sequences_matrix,Y_train,batch_size=128,epochs=15,validation_data=(test_sequences_matrix, Y_test))\n",
    "loss(lstm_model)"
   ]
  },
  {
   "cell_type": "code",
   "execution_count": 59,
   "metadata": {},
   "outputs": [
    {
     "name": "stdout",
     "output_type": "stream",
     "text": [
      "1142/1142 [==============================] - 0s 146us/step\n"
     ]
    }
   ],
   "source": [
    "accr = model.evaluate(test_sequences_matrix,Y_test)"
   ]
  },
  {
   "cell_type": "code",
   "execution_count": 60,
   "metadata": {},
   "outputs": [
    {
     "data": {
      "text/plain": [
       "[0.4980940008748016, 0.7845884561538696]"
      ]
     },
     "execution_count": 60,
     "metadata": {},
     "output_type": "execute_result"
    }
   ],
   "source": [
    "accr"
   ]
  },
  {
   "cell_type": "code",
   "execution_count": 61,
   "metadata": {},
   "outputs": [],
   "source": [
    "Y_pred = model.predict(test_sequences_matrix)\n",
    "Y_pred = [1 if i>0.5 else 0 for i in Y_pred]"
   ]
  },
  {
   "cell_type": "code",
   "execution_count": 62,
   "metadata": {},
   "outputs": [
    {
     "data": {
      "text/plain": [
       "0.7845884413309984"
      ]
     },
     "execution_count": 62,
     "metadata": {},
     "output_type": "execute_result"
    }
   ],
   "source": [
    "f1_score(Y_test, Y_pred, average='micro')"
   ]
  },
  {
   "cell_type": "code",
   "execution_count": null,
   "metadata": {},
   "outputs": [],
   "source": [
    "### Finding 10-fold CV error\n"
   ]
  },
  {
   "cell_type": "code",
   "execution_count": 68,
   "metadata": {},
   "outputs": [
    {
     "data": {
      "text/html": [
       "<div>\n",
       "<style scoped>\n",
       "    .dataframe tbody tr th:only-of-type {\n",
       "        vertical-align: middle;\n",
       "    }\n",
       "\n",
       "    .dataframe tbody tr th {\n",
       "        vertical-align: top;\n",
       "    }\n",
       "\n",
       "    .dataframe thead th {\n",
       "        text-align: right;\n",
       "    }\n",
       "</style>\n",
       "<table border=\"1\" class=\"dataframe\">\n",
       "  <thead>\n",
       "    <tr style=\"text-align: right;\">\n",
       "      <th></th>\n",
       "      <th>Unnamed: 0</th>\n",
       "      <th>id</th>\n",
       "      <th>keyword</th>\n",
       "      <th>location</th>\n",
       "      <th>target</th>\n",
       "      <th>lemmatize_without_stopwords</th>\n",
       "      <th>fold</th>\n",
       "    </tr>\n",
       "  </thead>\n",
       "  <tbody>\n",
       "    <tr>\n",
       "      <th>0</th>\n",
       "      <td>0</td>\n",
       "      <td>1</td>\n",
       "      <td>NaN</td>\n",
       "      <td>NaN</td>\n",
       "      <td>1.0</td>\n",
       "      <td>deed reason earthquake may allah forgive us</td>\n",
       "      <td>9</td>\n",
       "    </tr>\n",
       "    <tr>\n",
       "      <th>1</th>\n",
       "      <td>1</td>\n",
       "      <td>4</td>\n",
       "      <td>NaN</td>\n",
       "      <td>NaN</td>\n",
       "      <td>1.0</td>\n",
       "      <td>forest fire near la ronge sask canada</td>\n",
       "      <td>4</td>\n",
       "    </tr>\n",
       "    <tr>\n",
       "      <th>2</th>\n",
       "      <td>2</td>\n",
       "      <td>5</td>\n",
       "      <td>NaN</td>\n",
       "      <td>NaN</td>\n",
       "      <td>1.0</td>\n",
       "      <td>resident ask shelter place notify officer evac...</td>\n",
       "      <td>2</td>\n",
       "    </tr>\n",
       "    <tr>\n",
       "      <th>3</th>\n",
       "      <td>3</td>\n",
       "      <td>6</td>\n",
       "      <td>NaN</td>\n",
       "      <td>NaN</td>\n",
       "      <td>1.0</td>\n",
       "      <td>people receive wildfire evacuation order calif...</td>\n",
       "      <td>7</td>\n",
       "    </tr>\n",
       "    <tr>\n",
       "      <th>4</th>\n",
       "      <td>4</td>\n",
       "      <td>7</td>\n",
       "      <td>NaN</td>\n",
       "      <td>NaN</td>\n",
       "      <td>1.0</td>\n",
       "      <td>get sent photo ruby alaska smoke wildfires pou...</td>\n",
       "      <td>1</td>\n",
       "    </tr>\n",
       "  </tbody>\n",
       "</table>\n",
       "</div>"
      ],
      "text/plain": [
       "   Unnamed: 0  id keyword location  target  \\\n",
       "0           0   1     NaN      NaN     1.0   \n",
       "1           1   4     NaN      NaN     1.0   \n",
       "2           2   5     NaN      NaN     1.0   \n",
       "3           3   6     NaN      NaN     1.0   \n",
       "4           4   7     NaN      NaN     1.0   \n",
       "\n",
       "                         lemmatize_without_stopwords  fold  \n",
       "0        deed reason earthquake may allah forgive us     9  \n",
       "1              forest fire near la ronge sask canada     4  \n",
       "2  resident ask shelter place notify officer evac...     2  \n",
       "3  people receive wildfire evacuation order calif...     7  \n",
       "4  get sent photo ruby alaska smoke wildfires pou...     1  "
      ]
     },
     "execution_count": 68,
     "metadata": {},
     "output_type": "execute_result"
    }
   ],
   "source": [
    "cv_data = pd.read_csv('C:/Users/mkkma/Downloads/data_final.csv')\n",
    "cv_data.head()"
   ]
  },
  {
   "cell_type": "code",
   "execution_count": 82,
   "metadata": {},
   "outputs": [
    {
     "name": "stdout",
     "output_type": "stream",
     "text": [
      "Model: \"model_53\"\n",
      "_________________________________________________________________\n",
      "Layer (type)                 Output Shape              Param #   \n",
      "=================================================================\n",
      "inputs (InputLayer)          (None, 23)                0         \n",
      "_________________________________________________________________\n",
      "embedding_53 (Embedding)     (None, 23, 50)            750000    \n",
      "_________________________________________________________________\n",
      "lstm_53 (LSTM)               (None, 64)                29440     \n",
      "_________________________________________________________________\n",
      "FC1 (Dense)                  (None, 256)               16640     \n",
      "_________________________________________________________________\n",
      "activation_105 (Activation)  (None, 256)               0         \n",
      "_________________________________________________________________\n",
      "dropout_53 (Dropout)         (None, 256)               0         \n",
      "_________________________________________________________________\n",
      "out_layer (Dense)            (None, 1)                 257       \n",
      "_________________________________________________________________\n",
      "activation_106 (Activation)  (None, 1)                 0         \n",
      "=================================================================\n",
      "Total params: 796,337\n",
      "Trainable params: 796,337\n",
      "Non-trainable params: 0\n",
      "_________________________________________________________________\n",
      "Train on 6850 samples, validate on 762 samples\n",
      "Epoch 1/14\n",
      "6850/6850 [==============================] - 6s 900us/step - loss: 0.6889 - accuracy: 0.5699 - val_loss: 0.6829 - val_accuracy: 0.5709\n",
      "Epoch 2/14\n",
      "6850/6850 [==============================] - 4s 638us/step - loss: 0.6787 - accuracy: 0.5704 - val_loss: 0.6743 - val_accuracy: 0.5709\n",
      "Epoch 3/14\n",
      "6850/6850 [==============================] - 4s 648us/step - loss: 0.6706 - accuracy: 0.5704 - val_loss: 0.6664 - val_accuracy: 0.5709\n",
      "Epoch 4/14\n",
      "6850/6850 [==============================] - 4s 650us/step - loss: 0.6590 - accuracy: 0.5724 - val_loss: 0.6517 - val_accuracy: 0.5892\n",
      "Epoch 5/14\n",
      "6850/6850 [==============================] - 5s 738us/step - loss: 0.6388 - accuracy: 0.6213 - val_loss: 0.6332 - val_accuracy: 0.6339\n",
      "Epoch 6/14\n",
      "6850/6850 [==============================] - 5s 712us/step - loss: 0.6122 - accuracy: 0.7013 - val_loss: 0.6062 - val_accuracy: 0.7008\n",
      "Epoch 7/14\n",
      "6850/6850 [==============================] - 5s 715us/step - loss: 0.5767 - accuracy: 0.7569 - val_loss: 0.5853 - val_accuracy: 0.7126\n",
      "Epoch 8/14\n",
      "6850/6850 [==============================] - 5s 672us/step - loss: 0.5325 - accuracy: 0.7834 - val_loss: 0.5453 - val_accuracy: 0.7559\n",
      "Epoch 9/14\n",
      "6850/6850 [==============================] - 4s 644us/step - loss: 0.4817 - accuracy: 0.8050 - val_loss: 0.5170 - val_accuracy: 0.7756\n",
      "Epoch 10/14\n",
      "6850/6850 [==============================] - 5s 678us/step - loss: 0.4332 - accuracy: 0.8244 - val_loss: 0.4792 - val_accuracy: 0.7979\n",
      "Epoch 11/14\n",
      "6850/6850 [==============================] - 4s 635us/step - loss: 0.3967 - accuracy: 0.8391 - val_loss: 0.4502 - val_accuracy: 0.8097\n",
      "Epoch 12/14\n",
      "6850/6850 [==============================] - 4s 603us/step - loss: 0.3672 - accuracy: 0.8491 - val_loss: 0.4504 - val_accuracy: 0.8097\n",
      "Epoch 13/14\n",
      "6850/6850 [==============================] - 4s 625us/step - loss: 0.3467 - accuracy: 0.8571 - val_loss: 0.4456 - val_accuracy: 0.8150\n",
      "Epoch 14/14\n",
      "6850/6850 [==============================] - 4s 639us/step - loss: 0.3276 - accuracy: 0.8661 - val_loss: 0.4405 - val_accuracy: 0.8110\n"
     ]
    },
    {
     "data": {
      "image/png": "[encoded data removed]",
      "text/plain": [
       "<Figure size 432x288 with 1 Axes>"
      ]
     },
     "metadata": {
      "needs_background": "light"
     },
     "output_type": "display_data"
    },
    {
     "name": "stdout",
     "output_type": "stream",
     "text": [
      "Model: \"model_54\"\n",
      "_________________________________________________________________\n",
      "Layer (type)                 Output Shape              Param #   \n",
      "=================================================================\n",
      "inputs (InputLayer)          (None, 23)                0         \n",
      "_________________________________________________________________\n",
      "embedding_54 (Embedding)     (None, 23, 50)            750000    \n",
      "_________________________________________________________________\n",
      "lstm_54 (LSTM)               (None, 64)                29440     \n",
      "_________________________________________________________________\n",
      "FC1 (Dense)                  (None, 256)               16640     \n",
      "_________________________________________________________________\n",
      "activation_107 (Activation)  (None, 256)               0         \n",
      "_________________________________________________________________\n",
      "dropout_54 (Dropout)         (None, 256)               0         \n",
      "_________________________________________________________________\n",
      "out_layer (Dense)            (None, 1)                 257       \n",
      "_________________________________________________________________\n",
      "activation_108 (Activation)  (None, 1)                 0         \n",
      "=================================================================\n",
      "Total params: 796,337\n",
      "Trainable params: 796,337\n",
      "Non-trainable params: 0\n",
      "_________________________________________________________________\n",
      "Train on 6850 samples, validate on 762 samples\n",
      "Epoch 1/14\n",
      "6850/6850 [==============================] - 6s 856us/step - loss: 0.6896 - accuracy: 0.5666 - val_loss: 0.6838 - val_accuracy: 0.5709\n",
      "Epoch 2/14\n",
      "6850/6850 [==============================] - 5s 693us/step - loss: 0.6788 - accuracy: 0.5704 - val_loss: 0.6744 - val_accuracy: 0.5709\n",
      "Epoch 3/14\n",
      "6850/6850 [==============================] - 5s 717us/step - loss: 0.6715 - accuracy: 0.5704 - val_loss: 0.6674 - val_accuracy: 0.5709\n",
      "Epoch 4/14\n",
      "6850/6850 [==============================] - 5s 705us/step - loss: 0.6616 - accuracy: 0.5708 - val_loss: 0.6550 - val_accuracy: 0.5761\n",
      "Epoch 5/14\n",
      "6850/6850 [==============================] - 6s 837us/step - loss: 0.6432 - accuracy: 0.5971 - val_loss: 0.6356 - val_accuracy: 0.6260\n",
      "Epoch 6/14\n",
      "6850/6850 [==============================] - 4s 645us/step - loss: 0.6162 - accuracy: 0.6793 - val_loss: 0.6099 - val_accuracy: 0.6877\n",
      "Epoch 7/14\n",
      "6850/6850 [==============================] - 4s 649us/step - loss: 0.5812 - accuracy: 0.7416 - val_loss: 0.5782 - val_accuracy: 0.7507\n",
      "Epoch 8/14\n",
      "6850/6850 [==============================] - 4s 647us/step - loss: 0.5362 - accuracy: 0.7818 - val_loss: 0.5543 - val_accuracy: 0.7454\n",
      "Epoch 9/14\n",
      "6850/6850 [==============================] - 5s 668us/step - loss: 0.4830 - accuracy: 0.8055 - val_loss: 0.5058 - val_accuracy: 0.7638\n",
      "Epoch 10/14\n",
      "6850/6850 [==============================] - 5s 713us/step - loss: 0.4351 - accuracy: 0.8241 - val_loss: 0.4875 - val_accuracy: 0.7782\n",
      "Epoch 11/14\n",
      "6850/6850 [==============================] - 4s 637us/step - loss: 0.3940 - accuracy: 0.8403 - val_loss: 0.4809 - val_accuracy: 0.7598\n",
      "Epoch 12/14\n",
      "6850/6850 [==============================] - 5s 660us/step - loss: 0.3628 - accuracy: 0.8521 - val_loss: 0.4703 - val_accuracy: 0.8005\n",
      "Epoch 13/14\n",
      "6850/6850 [==============================] - 5s 659us/step - loss: 0.3422 - accuracy: 0.8600 - val_loss: 0.4646 - val_accuracy: 0.8045\n",
      "Epoch 14/14\n",
      "6850/6850 [==============================] - 5s 666us/step - loss: 0.3250 - accuracy: 0.8705 - val_loss: 0.4674 - val_accuracy: 0.8018\n"
     ]
    },
    {
     "data": {
      "image/png": "[encoded data removed]",
      "text/plain": [
       "<Figure size 432x288 with 1 Axes>"
      ]
     },
     "metadata": {
      "needs_background": "light"
     },
     "output_type": "display_data"
    },
    {
     "name": "stdout",
     "output_type": "stream",
     "text": [
      "Model: \"model_55\"\n",
      "_________________________________________________________________\n",
      "Layer (type)                 Output Shape              Param #   \n",
      "=================================================================\n",
      "inputs (InputLayer)          (None, 23)                0         \n",
      "_________________________________________________________________\n",
      "embedding_55 (Embedding)     (None, 23, 50)            750000    \n",
      "_________________________________________________________________\n",
      "lstm_55 (LSTM)               (None, 64)                29440     \n",
      "_________________________________________________________________\n",
      "FC1 (Dense)                  (None, 256)               16640     \n",
      "_________________________________________________________________\n",
      "activation_109 (Activation)  (None, 256)               0         \n",
      "_________________________________________________________________\n",
      "dropout_55 (Dropout)         (None, 256)               0         \n",
      "_________________________________________________________________\n",
      "out_layer (Dense)            (None, 1)                 257       \n",
      "_________________________________________________________________\n",
      "activation_110 (Activation)  (None, 1)                 0         \n",
      "=================================================================\n",
      "Total params: 796,337\n",
      "Trainable params: 796,337\n",
      "Non-trainable params: 0\n",
      "_________________________________________________________________\n",
      "Train on 6851 samples, validate on 761 samples\n",
      "Epoch 1/14\n",
      "6851/6851 [==============================] - 7s 993us/step - loss: 0.6899 - accuracy: 0.5706 - val_loss: 0.6845 - val_accuracy: 0.5703\n",
      "Epoch 2/14\n",
      "6851/6851 [==============================] - 6s 811us/step - loss: 0.6803 - accuracy: 0.5704 - val_loss: 0.6768 - val_accuracy: 0.5703\n",
      "Epoch 3/14\n",
      "6851/6851 [==============================] - 5s 787us/step - loss: 0.6745 - accuracy: 0.5704 - val_loss: 0.6727 - val_accuracy: 0.5703\n",
      "Epoch 4/14\n",
      "6851/6851 [==============================] - 5s 701us/step - loss: 0.6668 - accuracy: 0.5704 - val_loss: 0.6637 - val_accuracy: 0.5703\n",
      "Epoch 5/14\n",
      "6851/6851 [==============================] - 5s 699us/step - loss: 0.6541 - accuracy: 0.5751 - val_loss: 0.6527 - val_accuracy: 0.5782\n",
      "Epoch 6/14\n",
      "6851/6851 [==============================] - 5s 762us/step - loss: 0.6313 - accuracy: 0.6263 - val_loss: 0.6312 - val_accuracy: 0.6242\n",
      "Epoch 7/14\n",
      "6851/6851 [==============================] - 5s 702us/step - loss: 0.6033 - accuracy: 0.7019 - val_loss: 0.6109 - val_accuracy: 0.6623\n",
      "Epoch 8/14\n",
      "6851/6851 [==============================] - 5s 698us/step - loss: 0.5673 - accuracy: 0.7581 - val_loss: 0.5876 - val_accuracy: 0.6991\n",
      "Epoch 9/14\n",
      "6851/6851 [==============================] - 5s 730us/step - loss: 0.5221 - accuracy: 0.7942 - val_loss: 0.5697 - val_accuracy: 0.7372\n",
      "Epoch 10/14\n",
      "6851/6851 [==============================] - 5s 705us/step - loss: 0.4726 - accuracy: 0.8209 - val_loss: 0.5268 - val_accuracy: 0.7622\n",
      "Epoch 11/14\n",
      "6851/6851 [==============================] - 5s 703us/step - loss: 0.4231 - accuracy: 0.8349 - val_loss: 0.5428 - val_accuracy: 0.7595\n",
      "Epoch 12/14\n",
      "6851/6851 [==============================] - 5s 723us/step - loss: 0.3831 - accuracy: 0.8473 - val_loss: 0.4932 - val_accuracy: 0.7976\n",
      "Epoch 13/14\n",
      "6851/6851 [==============================] - 5s 706us/step - loss: 0.3533 - accuracy: 0.8584 - val_loss: 0.4903 - val_accuracy: 0.7976\n",
      "Epoch 14/14\n",
      "6851/6851 [==============================] - 5s 724us/step - loss: 0.3334 - accuracy: 0.8647 - val_loss: 0.4975 - val_accuracy: 0.7989\n"
     ]
    },
    {
     "data": {
      "image/png": "[encoded data removed]",
      "text/plain": [
       "<Figure size 432x288 with 1 Axes>"
      ]
     },
     "metadata": {
      "needs_background": "light"
     },
     "output_type": "display_data"
    },
    {
     "name": "stdout",
     "output_type": "stream",
     "text": [
      "Model: \"model_56\"\n",
      "_________________________________________________________________\n",
      "Layer (type)                 Output Shape              Param #   \n",
      "=================================================================\n",
      "inputs (InputLayer)          (None, 23)                0         \n",
      "_________________________________________________________________\n",
      "embedding_56 (Embedding)     (None, 23, 50)            750000    \n",
      "_________________________________________________________________\n",
      "lstm_56 (LSTM)               (None, 64)                29440     \n",
      "_________________________________________________________________\n",
      "FC1 (Dense)                  (None, 256)               16640     \n",
      "_________________________________________________________________\n",
      "activation_111 (Activation)  (None, 256)               0         \n",
      "_________________________________________________________________\n",
      "dropout_56 (Dropout)         (None, 256)               0         \n",
      "_________________________________________________________________\n",
      "out_layer (Dense)            (None, 1)                 257       \n",
      "_________________________________________________________________\n",
      "activation_112 (Activation)  (None, 1)                 0         \n",
      "=================================================================\n",
      "Total params: 796,337\n",
      "Trainable params: 796,337\n",
      "Non-trainable params: 0\n",
      "_________________________________________________________________\n",
      "Train on 6851 samples, validate on 761 samples\n",
      "Epoch 1/14\n",
      "6851/6851 [==============================] - 7s 1ms/step - loss: 0.6899 - accuracy: 0.5684 - val_loss: 0.6853 - val_accuracy: 0.5703\n",
      "Epoch 2/14\n",
      "6851/6851 [==============================] - 5s 770us/step - loss: 0.6805 - accuracy: 0.5704 - val_loss: 0.6766 - val_accuracy: 0.5703\n",
      "Epoch 3/14\n",
      "6851/6851 [==============================] - 5s 672us/step - loss: 0.6736 - accuracy: 0.5704 - val_loss: 0.6711 - val_accuracy: 0.5703\n",
      "Epoch 4/14\n",
      "6851/6851 [==============================] - 5s 676us/step - loss: 0.6649 - accuracy: 0.5704 - val_loss: 0.6628 - val_accuracy: 0.5703\n",
      "Epoch 5/14\n",
      "6851/6851 [==============================] - 5s 695us/step - loss: 0.6496 - accuracy: 0.5808 - val_loss: 0.6467 - val_accuracy: 0.5940\n",
      "Epoch 6/14\n",
      "6851/6851 [==============================] - 5s 698us/step - loss: 0.6274 - accuracy: 0.6487 - val_loss: 0.6276 - val_accuracy: 0.6478\n",
      "Epoch 7/14\n",
      "6851/6851 [==============================] - 5s 664us/step - loss: 0.5968 - accuracy: 0.7192 - val_loss: 0.6000 - val_accuracy: 0.7135\n",
      "Epoch 8/14\n",
      "6851/6851 [==============================] - 5s 663us/step - loss: 0.5579 - accuracy: 0.7701 - val_loss: 0.5759 - val_accuracy: 0.7438\n",
      "Epoch 9/14\n",
      "6851/6851 [==============================] - 5s 683us/step - loss: 0.5147 - accuracy: 0.7964 - val_loss: 0.5421 - val_accuracy: 0.7674\n",
      "Epoch 10/14\n",
      "6851/6851 [==============================] - 5s 677us/step - loss: 0.4649 - accuracy: 0.8199 - val_loss: 0.5078 - val_accuracy: 0.7622\n",
      "Epoch 11/14\n",
      "6851/6851 [==============================] - 5s 673us/step - loss: 0.4200 - accuracy: 0.8314 - val_loss: 0.5296 - val_accuracy: 0.7832\n",
      "Epoch 12/14\n",
      "6851/6851 [==============================] - 5s 675us/step - loss: 0.3843 - accuracy: 0.8438 - val_loss: 0.4816 - val_accuracy: 0.7819\n",
      "Epoch 13/14\n",
      "6851/6851 [==============================] - 5s 691us/step - loss: 0.3587 - accuracy: 0.8545 - val_loss: 0.4714 - val_accuracy: 0.7714\n",
      "Epoch 14/14\n",
      "6851/6851 [==============================] - 5s 675us/step - loss: 0.3384 - accuracy: 0.8626 - val_loss: 0.4711 - val_accuracy: 0.7911\n"
     ]
    },
    {
     "data": {
      "image/png": "[encoded data removed]",
      "text/plain": [
       "<Figure size 432x288 with 1 Axes>"
      ]
     },
     "metadata": {
      "needs_background": "light"
     },
     "output_type": "display_data"
    },
    {
     "name": "stdout",
     "output_type": "stream",
     "text": [
      "Model: \"model_57\"\n",
      "_________________________________________________________________\n",
      "Layer (type)                 Output Shape              Param #   \n",
      "=================================================================\n",
      "inputs (InputLayer)          (None, 23)                0         \n",
      "_________________________________________________________________\n",
      "embedding_57 (Embedding)     (None, 23, 50)            750000    \n",
      "_________________________________________________________________\n",
      "lstm_57 (LSTM)               (None, 64)                29440     \n",
      "_________________________________________________________________\n",
      "FC1 (Dense)                  (None, 256)               16640     \n",
      "_________________________________________________________________\n",
      "activation_113 (Activation)  (None, 256)               0         \n",
      "_________________________________________________________________\n",
      "dropout_57 (Dropout)         (None, 256)               0         \n",
      "_________________________________________________________________\n",
      "out_layer (Dense)            (None, 1)                 257       \n",
      "_________________________________________________________________\n",
      "activation_114 (Activation)  (None, 1)                 0         \n",
      "=================================================================\n",
      "Total params: 796,337\n",
      "Trainable params: 796,337\n",
      "Non-trainable params: 0\n",
      "_________________________________________________________________\n",
      "Train on 6851 samples, validate on 761 samples\n",
      "Epoch 1/14\n",
      "6851/6851 [==============================] - 7s 970us/step - loss: 0.6899 - accuracy: 0.5684 - val_loss: 0.6849 - val_accuracy: 0.5703\n",
      "Epoch 2/14\n",
      "6851/6851 [==============================] - 5s 703us/step - loss: 0.6806 - accuracy: 0.5704 - val_loss: 0.6765 - val_accuracy: 0.5703\n",
      "Epoch 3/14\n",
      "6851/6851 [==============================] - 5s 724us/step - loss: 0.6743 - accuracy: 0.5704 - val_loss: 0.6708 - val_accuracy: 0.5703\n",
      "Epoch 4/14\n",
      "6851/6851 [==============================] - 5s 762us/step - loss: 0.6656 - accuracy: 0.5704 - val_loss: 0.6606 - val_accuracy: 0.5703\n",
      "Epoch 5/14\n",
      "6851/6851 [==============================] - 5s 748us/step - loss: 0.6497 - accuracy: 0.5795 - val_loss: 0.6478 - val_accuracy: 0.5795\n",
      "Epoch 6/14\n",
      "6851/6851 [==============================] - 5s 745us/step - loss: 0.6250 - accuracy: 0.6485 - val_loss: 0.6201 - val_accuracy: 0.6702\n",
      "Epoch 7/14\n",
      "6851/6851 [==============================] - 5s 710us/step - loss: 0.5923 - accuracy: 0.7284 - val_loss: 0.6021 - val_accuracy: 0.7096\n",
      "Epoch 8/14\n",
      "6851/6851 [==============================] - 5s 699us/step - loss: 0.5501 - accuracy: 0.7727 - val_loss: 0.5888 - val_accuracy: 0.7188\n",
      "Epoch 9/14\n",
      "6851/6851 [==============================] - 5s 713us/step - loss: 0.4965 - accuracy: 0.8079 - val_loss: 0.5464 - val_accuracy: 0.7424\n",
      "Epoch 10/14\n",
      "6851/6851 [==============================] - 5s 702us/step - loss: 0.4429 - accuracy: 0.8257 - val_loss: 0.5530 - val_accuracy: 0.7451\n",
      "Epoch 11/14\n",
      "6851/6851 [==============================] - 5s 720us/step - loss: 0.4000 - accuracy: 0.8384 - val_loss: 0.4820 - val_accuracy: 0.7661\n",
      "Epoch 12/14\n",
      "6851/6851 [==============================] - 5s 711us/step - loss: 0.3709 - accuracy: 0.8507 - val_loss: 0.4743 - val_accuracy: 0.7753\n",
      "Epoch 13/14\n",
      "6851/6851 [==============================] - 5s 733us/step - loss: 0.3483 - accuracy: 0.8584 - val_loss: 0.5221 - val_accuracy: 0.7753\n",
      "Epoch 14/14\n",
      "6851/6851 [==============================] - 5s 765us/step - loss: 0.3299 - accuracy: 0.8672 - val_loss: 0.4823 - val_accuracy: 0.7700\n"
     ]
    },
    {
     "data": {
      "image/png": "[encoded data removed]",
      "text/plain": [
       "<Figure size 432x288 with 1 Axes>"
      ]
     },
     "metadata": {
      "needs_background": "light"
     },
     "output_type": "display_data"
    },
    {
     "name": "stdout",
     "output_type": "stream",
     "text": [
      "Model: \"model_58\"\n",
      "_________________________________________________________________\n",
      "Layer (type)                 Output Shape              Param #   \n",
      "=================================================================\n",
      "inputs (InputLayer)          (None, 23)                0         \n",
      "_________________________________________________________________\n",
      "embedding_58 (Embedding)     (None, 23, 50)            750000    \n",
      "_________________________________________________________________\n",
      "lstm_58 (LSTM)               (None, 64)                29440     \n",
      "_________________________________________________________________\n",
      "FC1 (Dense)                  (None, 256)               16640     \n",
      "_________________________________________________________________\n",
      "activation_115 (Activation)  (None, 256)               0         \n",
      "_________________________________________________________________\n",
      "dropout_58 (Dropout)         (None, 256)               0         \n",
      "_________________________________________________________________\n",
      "out_layer (Dense)            (None, 1)                 257       \n",
      "_________________________________________________________________\n",
      "activation_116 (Activation)  (None, 1)                 0         \n",
      "=================================================================\n",
      "Total params: 796,337\n",
      "Trainable params: 796,337\n",
      "Non-trainable params: 0\n",
      "_________________________________________________________________\n",
      "Train on 6851 samples, validate on 761 samples\n",
      "Epoch 1/14\n",
      "6851/6851 [==============================] - 7s 966us/step - loss: 0.6890 - accuracy: 0.5690 - val_loss: 0.6831 - val_accuracy: 0.5703\n",
      "Epoch 2/14\n",
      "6851/6851 [==============================] - 5s 680us/step - loss: 0.6793 - accuracy: 0.5704 - val_loss: 0.6761 - val_accuracy: 0.5703\n",
      "Epoch 3/14\n",
      "6851/6851 [==============================] - 5s 711us/step - loss: 0.6744 - accuracy: 0.5704 - val_loss: 0.6692 - val_accuracy: 0.5703\n",
      "Epoch 4/14\n",
      "6851/6851 [==============================] - 5s 715us/step - loss: 0.6659 - accuracy: 0.5704 - val_loss: 0.6580 - val_accuracy: 0.5703\n",
      "Epoch 5/14\n",
      "6851/6851 [==============================] - 5s 679us/step - loss: 0.6500 - accuracy: 0.5805 - val_loss: 0.6382 - val_accuracy: 0.5940\n",
      "Epoch 6/14\n",
      "6851/6851 [==============================] - 5s 719us/step - loss: 0.6249 - accuracy: 0.6443 - val_loss: 0.6141 - val_accuracy: 0.6426\n",
      "Epoch 7/14\n",
      "6851/6851 [==============================] - 5s 705us/step - loss: 0.5910 - accuracy: 0.7200 - val_loss: 0.5770 - val_accuracy: 0.7240\n",
      "Epoch 8/14\n",
      "6851/6851 [==============================] - 5s 746us/step - loss: 0.5507 - accuracy: 0.7730 - val_loss: 0.5386 - val_accuracy: 0.7714\n",
      "Epoch 9/14\n",
      "6851/6851 [==============================] - 5s 747us/step - loss: 0.5013 - accuracy: 0.8034 - val_loss: 0.5181 - val_accuracy: 0.7819\n",
      "Epoch 10/14\n",
      "6851/6851 [==============================] - 5s 689us/step - loss: 0.4491 - accuracy: 0.8235 - val_loss: 0.4463 - val_accuracy: 0.8055\n",
      "Epoch 11/14\n",
      "6851/6851 [==============================] - 5s 704us/step - loss: 0.4072 - accuracy: 0.8381 - val_loss: 0.4801 - val_accuracy: 0.7989\n",
      "Epoch 12/14\n",
      "6851/6851 [==============================] - 5s 686us/step - loss: 0.3754 - accuracy: 0.8463 - val_loss: 0.4068 - val_accuracy: 0.8239\n",
      "Epoch 13/14\n",
      "6851/6851 [==============================] - 5s 712us/step - loss: 0.3532 - accuracy: 0.8599 - val_loss: 0.4112 - val_accuracy: 0.8252\n",
      "Epoch 14/14\n",
      "6851/6851 [==============================] - 5s 696us/step - loss: 0.3317 - accuracy: 0.8679 - val_loss: 0.4069 - val_accuracy: 0.8173\n"
     ]
    },
    {
     "data": {
      "image/png": "[encoded data removed]",
      "text/plain": [
       "<Figure size 432x288 with 1 Axes>"
      ]
     },
     "metadata": {
      "needs_background": "light"
     },
     "output_type": "display_data"
    },
    {
     "name": "stdout",
     "output_type": "stream",
     "text": [
      "Model: \"model_59\"\n",
      "_________________________________________________________________\n",
      "Layer (type)                 Output Shape              Param #   \n",
      "=================================================================\n",
      "inputs (InputLayer)          (None, 23)                0         \n",
      "_________________________________________________________________\n",
      "embedding_59 (Embedding)     (None, 23, 50)            750000    \n",
      "_________________________________________________________________\n",
      "lstm_59 (LSTM)               (None, 64)                29440     \n",
      "_________________________________________________________________\n",
      "FC1 (Dense)                  (None, 256)               16640     \n",
      "_________________________________________________________________\n",
      "activation_117 (Activation)  (None, 256)               0         \n",
      "_________________________________________________________________\n",
      "dropout_59 (Dropout)         (None, 256)               0         \n",
      "_________________________________________________________________\n",
      "out_layer (Dense)            (None, 1)                 257       \n",
      "_________________________________________________________________\n",
      "activation_118 (Activation)  (None, 1)                 0         \n",
      "=================================================================\n",
      "Total params: 796,337\n",
      "Trainable params: 796,337\n",
      "Non-trainable params: 0\n",
      "_________________________________________________________________\n",
      "Train on 6851 samples, validate on 761 samples\n",
      "Epoch 1/14\n",
      "6851/6851 [==============================] - 7s 1ms/step - loss: 0.6901 - accuracy: 0.5682 - val_loss: 0.6850 - val_accuracy: 0.5703\n",
      "Epoch 2/14\n",
      "6851/6851 [==============================] - 5s 776us/step - loss: 0.6806 - accuracy: 0.5704 - val_loss: 0.6740 - val_accuracy: 0.5703\n",
      "Epoch 3/14\n",
      "6851/6851 [==============================] - 6s 917us/step - loss: 0.6739 - accuracy: 0.5704 - val_loss: 0.6666 - val_accuracy: 0.5703\n",
      "Epoch 4/14\n",
      "6851/6851 [==============================] - 5s 782us/step - loss: 0.6637 - accuracy: 0.5707 - val_loss: 0.6532 - val_accuracy: 0.5703\n",
      "Epoch 5/14\n",
      "6851/6851 [==============================] - 5s 752us/step - loss: 0.6455 - accuracy: 0.5887 - val_loss: 0.6340 - val_accuracy: 0.6058\n",
      "Epoch 6/14\n",
      "6851/6851 [==============================] - 5s 731us/step - loss: 0.6188 - accuracy: 0.6625 - val_loss: 0.6065 - val_accuracy: 0.6794\n",
      "Epoch 7/14\n",
      "6851/6851 [==============================] - 5s 755us/step - loss: 0.5832 - accuracy: 0.7409 - val_loss: 0.5894 - val_accuracy: 0.7043\n",
      "Epoch 8/14\n",
      "6851/6851 [==============================] - 5s 791us/step - loss: 0.5358 - accuracy: 0.7832 - val_loss: 0.5532 - val_accuracy: 0.7451\n",
      "Epoch 9/14\n",
      "6851/6851 [==============================] - 5s 775us/step - loss: 0.4781 - accuracy: 0.8124 - val_loss: 0.4913 - val_accuracy: 0.7832\n",
      "Epoch 10/14\n",
      "6851/6851 [==============================] - 5s 795us/step - loss: 0.4263 - accuracy: 0.8308 - val_loss: 0.5324 - val_accuracy: 0.7714\n",
      "Epoch 11/14\n",
      "6851/6851 [==============================] - 5s 783us/step - loss: 0.3886 - accuracy: 0.8396 - val_loss: 0.4693 - val_accuracy: 0.7963\n",
      "Epoch 12/14\n",
      "6851/6851 [==============================] - 5s 724us/step - loss: 0.3652 - accuracy: 0.8518 - val_loss: 0.4524 - val_accuracy: 0.7792\n",
      "Epoch 13/14\n",
      "6851/6851 [==============================] - 5s 728us/step - loss: 0.3438 - accuracy: 0.8631 - val_loss: 0.4572 - val_accuracy: 0.7963\n",
      "Epoch 14/14\n",
      "6851/6851 [==============================] - 5s 773us/step - loss: 0.3282 - accuracy: 0.8686 - val_loss: 0.4585 - val_accuracy: 0.8003\n"
     ]
    },
    {
     "data": {
      "image/png": "[encoded data removed]",
      "text/plain": [
       "<Figure size 432x288 with 1 Axes>"
      ]
     },
     "metadata": {
      "needs_background": "light"
     },
     "output_type": "display_data"
    },
    {
     "name": "stdout",
     "output_type": "stream",
     "text": [
      "Model: \"model_60\"\n",
      "_________________________________________________________________\n",
      "Layer (type)                 Output Shape              Param #   \n",
      "=================================================================\n",
      "inputs (InputLayer)          (None, 23)                0         \n",
      "_________________________________________________________________\n",
      "embedding_60 (Embedding)     (None, 23, 50)            750000    \n",
      "_________________________________________________________________\n",
      "lstm_60 (LSTM)               (None, 64)                29440     \n",
      "_________________________________________________________________\n",
      "FC1 (Dense)                  (None, 256)               16640     \n",
      "_________________________________________________________________\n",
      "activation_119 (Activation)  (None, 256)               0         \n",
      "_________________________________________________________________\n",
      "dropout_60 (Dropout)         (None, 256)               0         \n",
      "_________________________________________________________________\n",
      "out_layer (Dense)            (None, 1)                 257       \n",
      "_________________________________________________________________\n",
      "activation_120 (Activation)  (None, 1)                 0         \n",
      "=================================================================\n",
      "Total params: 796,337\n",
      "Trainable params: 796,337\n",
      "Non-trainable params: 0\n",
      "_________________________________________________________________\n",
      "Train on 6851 samples, validate on 761 samples\n",
      "Epoch 1/14\n",
      "6851/6851 [==============================] - 7s 1ms/step - loss: 0.6895 - accuracy: 0.5694 - val_loss: 0.6833 - val_accuracy: 0.5703\n",
      "Epoch 2/14\n",
      "6851/6851 [==============================] - 5s 720us/step - loss: 0.6789 - accuracy: 0.5704 - val_loss: 0.6747 - val_accuracy: 0.5703\n",
      "Epoch 3/14\n",
      "6851/6851 [==============================] - 5s 733us/step - loss: 0.6729 - accuracy: 0.5704 - val_loss: 0.6675 - val_accuracy: 0.5703\n",
      "Epoch 4/14\n",
      "6851/6851 [==============================] - 5s 731us/step - loss: 0.6614 - accuracy: 0.5709 - val_loss: 0.6540 - val_accuracy: 0.5716\n",
      "Epoch 5/14\n",
      "6851/6851 [==============================] - 5s 765us/step - loss: 0.6425 - accuracy: 0.5998 - val_loss: 0.6336 - val_accuracy: 0.6202\n",
      "Epoch 6/14\n",
      "6851/6851 [==============================] - 5s 743us/step - loss: 0.6131 - accuracy: 0.6869 - val_loss: 0.6131 - val_accuracy: 0.6781\n",
      "Epoch 7/14\n",
      "6851/6851 [==============================] - 5s 733us/step - loss: 0.5766 - accuracy: 0.7507 - val_loss: 0.5811 - val_accuracy: 0.7372\n",
      "Epoch 8/14\n",
      "6851/6851 [==============================] - 6s 806us/step - loss: 0.5283 - accuracy: 0.7933 - val_loss: 0.5596 - val_accuracy: 0.7477\n",
      "Epoch 9/14\n",
      "6851/6851 [==============================] - 5s 741us/step - loss: 0.4705 - accuracy: 0.8177 - val_loss: 0.5400 - val_accuracy: 0.7635\n",
      "Epoch 10/14\n",
      "6851/6851 [==============================] - 5s 732us/step - loss: 0.4226 - accuracy: 0.8340 - val_loss: 0.5015 - val_accuracy: 0.7832\n",
      "Epoch 11/14\n",
      "6851/6851 [==============================] - 5s 760us/step - loss: 0.3836 - accuracy: 0.8438 - val_loss: 0.5513 - val_accuracy: 0.7792\n",
      "Epoch 12/14\n",
      "6851/6851 [==============================] - 5s 732us/step - loss: 0.3570 - accuracy: 0.8537 - val_loss: 0.5381 - val_accuracy: 0.7871\n",
      "Epoch 13/14\n",
      "6851/6851 [==============================] - 5s 754us/step - loss: 0.3376 - accuracy: 0.8664 - val_loss: 0.5358 - val_accuracy: 0.7516\n",
      "Epoch 14/14\n",
      "6851/6851 [==============================] - 5s 755us/step - loss: 0.3194 - accuracy: 0.8713 - val_loss: 0.5402 - val_accuracy: 0.7989\n"
     ]
    },
    {
     "data": {
      "image/png": "[encoded data removed]",
      "text/plain": [
       "<Figure size 432x288 with 1 Axes>"
      ]
     },
     "metadata": {
      "needs_background": "light"
     },
     "output_type": "display_data"
    },
    {
     "name": "stdout",
     "output_type": "stream",
     "text": [
      "Model: \"model_61\"\n",
      "_________________________________________________________________\n",
      "Layer (type)                 Output Shape              Param #   \n",
      "=================================================================\n",
      "inputs (InputLayer)          (None, 23)                0         \n",
      "_________________________________________________________________\n",
      "embedding_61 (Embedding)     (None, 23, 50)            750000    \n",
      "_________________________________________________________________\n",
      "lstm_61 (LSTM)               (None, 64)                29440     \n",
      "_________________________________________________________________\n",
      "FC1 (Dense)                  (None, 256)               16640     \n",
      "_________________________________________________________________\n",
      "activation_121 (Activation)  (None, 256)               0         \n",
      "_________________________________________________________________\n",
      "dropout_61 (Dropout)         (None, 256)               0         \n",
      "_________________________________________________________________\n",
      "out_layer (Dense)            (None, 1)                 257       \n",
      "_________________________________________________________________\n",
      "activation_122 (Activation)  (None, 1)                 0         \n",
      "=================================================================\n",
      "Total params: 796,337\n",
      "Trainable params: 796,337\n",
      "Non-trainable params: 0\n",
      "_________________________________________________________________\n",
      "Train on 6851 samples, validate on 761 samples\n",
      "Epoch 1/14\n",
      "6851/6851 [==============================] - 7s 1ms/step - loss: 0.6894 - accuracy: 0.5696 - val_loss: 0.6829 - val_accuracy: 0.5703\n",
      "Epoch 2/14\n",
      "6851/6851 [==============================] - 5s 780us/step - loss: 0.6795 - accuracy: 0.5704 - val_loss: 0.6742 - val_accuracy: 0.5703\n",
      "Epoch 3/14\n",
      "6851/6851 [==============================] - 5s 780us/step - loss: 0.6740 - accuracy: 0.5704 - val_loss: 0.6686 - val_accuracy: 0.5703\n",
      "Epoch 4/14\n",
      "6851/6851 [==============================] - 5s 787us/step - loss: 0.6653 - accuracy: 0.5704 - val_loss: 0.6565 - val_accuracy: 0.5703\n",
      "Epoch 5/14\n",
      "6851/6851 [==============================] - 5s 726us/step - loss: 0.6486 - accuracy: 0.5817 - val_loss: 0.6355 - val_accuracy: 0.6110\n",
      "Epoch 6/14\n",
      "6851/6851 [==============================] - 5s 760us/step - loss: 0.6228 - accuracy: 0.6529 - val_loss: 0.6097 - val_accuracy: 0.6728\n",
      "Epoch 7/14\n",
      "6851/6851 [==============================] - 5s 769us/step - loss: 0.5884 - accuracy: 0.7297 - val_loss: 0.5824 - val_accuracy: 0.7214\n",
      "Epoch 8/14\n",
      "6851/6851 [==============================] - 5s 721us/step - loss: 0.5473 - accuracy: 0.7722 - val_loss: 0.5405 - val_accuracy: 0.7608\n",
      "Epoch 9/14\n",
      "6851/6851 [==============================] - 5s 722us/step - loss: 0.5006 - accuracy: 0.8054 - val_loss: 0.5032 - val_accuracy: 0.7792\n",
      "Epoch 10/14\n",
      "6851/6851 [==============================] - 5s 752us/step - loss: 0.4474 - accuracy: 0.8243 - val_loss: 0.4752 - val_accuracy: 0.7911\n",
      "Epoch 11/14\n",
      "6851/6851 [==============================] - 5s 725us/step - loss: 0.4044 - accuracy: 0.8380 - val_loss: 0.4518 - val_accuracy: 0.8042\n",
      "Epoch 12/14\n",
      "6851/6851 [==============================] - 5s 734us/step - loss: 0.3724 - accuracy: 0.8517 - val_loss: 0.4861 - val_accuracy: 0.7845\n",
      "Epoch 13/14\n",
      "6851/6851 [==============================] - 5s 747us/step - loss: 0.3552 - accuracy: 0.8542 - val_loss: 0.4448 - val_accuracy: 0.8042\n",
      "Epoch 14/14\n",
      "6851/6851 [==============================] - 5s 726us/step - loss: 0.3352 - accuracy: 0.8650 - val_loss: 0.4507 - val_accuracy: 0.8121\n"
     ]
    },
    {
     "data": {
      "image/png": "[encoded data removed]",
      "text/plain": [
       "<Figure size 432x288 with 1 Axes>"
      ]
     },
     "metadata": {
      "needs_background": "light"
     },
     "output_type": "display_data"
    },
    {
     "name": "stdout",
     "output_type": "stream",
     "text": [
      "Model: \"model_62\"\n",
      "_________________________________________________________________\n",
      "Layer (type)                 Output Shape              Param #   \n",
      "=================================================================\n",
      "inputs (InputLayer)          (None, 23)                0         \n",
      "_________________________________________________________________\n",
      "embedding_62 (Embedding)     (None, 23, 50)            750000    \n",
      "_________________________________________________________________\n",
      "lstm_62 (LSTM)               (None, 64)                29440     \n",
      "_________________________________________________________________\n",
      "FC1 (Dense)                  (None, 256)               16640     \n",
      "_________________________________________________________________\n",
      "activation_123 (Activation)  (None, 256)               0         \n",
      "_________________________________________________________________\n",
      "dropout_62 (Dropout)         (None, 256)               0         \n",
      "_________________________________________________________________\n",
      "out_layer (Dense)            (None, 1)                 257       \n",
      "_________________________________________________________________\n",
      "activation_124 (Activation)  (None, 1)                 0         \n",
      "=================================================================\n",
      "Total params: 796,337\n",
      "Trainable params: 796,337\n",
      "Non-trainable params: 0\n",
      "_________________________________________________________________\n",
      "Train on 6851 samples, validate on 761 samples\n",
      "Epoch 1/14\n",
      "6851/6851 [==============================] - 8s 1ms/step - loss: 0.6898 - accuracy: 0.5691 - val_loss: 0.6839 - val_accuracy: 0.5703\n",
      "Epoch 2/14\n",
      "6851/6851 [==============================] - 5s 740us/step - loss: 0.6800 - accuracy: 0.5704 - val_loss: 0.6755 - val_accuracy: 0.5703\n",
      "Epoch 3/14\n",
      "6851/6851 [==============================] - 5s 763us/step - loss: 0.6746 - accuracy: 0.5704 - val_loss: 0.6694 - val_accuracy: 0.5703\n",
      "Epoch 4/14\n",
      "6851/6851 [==============================] - 5s 741us/step - loss: 0.6655 - accuracy: 0.5704 - val_loss: 0.6597 - val_accuracy: 0.5703\n",
      "Epoch 5/14\n",
      "6851/6851 [==============================] - 5s 742us/step - loss: 0.6500 - accuracy: 0.5808 - val_loss: 0.6443 - val_accuracy: 0.5900\n",
      "Epoch 6/14\n",
      "6851/6851 [==============================] - 5s 762us/step - loss: 0.6236 - accuracy: 0.6533 - val_loss: 0.6220 - val_accuracy: 0.6347\n",
      "Epoch 7/14\n",
      "6851/6851 [==============================] - 5s 734us/step - loss: 0.5883 - accuracy: 0.7330 - val_loss: 0.6027 - val_accuracy: 0.6794\n",
      "Epoch 8/14\n",
      "6851/6851 [==============================] - 5s 751us/step - loss: 0.5427 - accuracy: 0.7762 - val_loss: 0.5485 - val_accuracy: 0.7411\n",
      "Epoch 9/14\n",
      "6851/6851 [==============================] - 6s 859us/step - loss: 0.4891 - accuracy: 0.8081 - val_loss: 0.5185 - val_accuracy: 0.7582\n",
      "Epoch 10/14\n",
      "6851/6851 [==============================] - 5s 756us/step - loss: 0.4389 - accuracy: 0.8278 - val_loss: 0.4980 - val_accuracy: 0.7714\n",
      "Epoch 11/14\n",
      "6851/6851 [==============================] - 5s 763us/step - loss: 0.3966 - accuracy: 0.8380 - val_loss: 0.5334 - val_accuracy: 0.7727\n",
      "Epoch 12/14\n",
      "6851/6851 [==============================] - 5s 798us/step - loss: 0.3645 - accuracy: 0.8517 - val_loss: 0.5168 - val_accuracy: 0.7792\n",
      "Epoch 13/14\n",
      "6851/6851 [==============================] - 5s 771us/step - loss: 0.3440 - accuracy: 0.8621 - val_loss: 0.4949 - val_accuracy: 0.7845\n",
      "Epoch 14/14\n",
      "6851/6851 [==============================] - 5s 759us/step - loss: 0.3284 - accuracy: 0.8666 - val_loss: 0.4962 - val_accuracy: 0.7911\n"
     ]
    },
    {
     "data": {
      "image/png": "[encoded data removed]",
      "text/plain": [
       "<Figure size 432x288 with 1 Axes>"
      ]
     },
     "metadata": {
      "needs_background": "light"
     },
     "output_type": "display_data"
    }
   ],
   "source": [
    "cv_scores = []\n",
    "for i in range(1,11):\n",
    "    train = cv_data[cv_data['fold'] != i]\n",
    "    test = cv_data[cv_data['fold'] == i]\n",
    "    max_words = 15000\n",
    "    max_len =23\n",
    "    X_train = train['lemmatize_without_stopwords']\n",
    "    Y_train = train['target']\n",
    "    X_test = test['lemmatize_without_stopwords']\n",
    "    Y_test = test['target']\n",
    "    tok = Tokenizer(num_words=max_words)\n",
    "    tok.fit_on_texts(X_train)\n",
    "    sequences = tok.texts_to_sequences(X_train)\n",
    "    sequences_matrix = sequence.pad_sequences(sequences,maxlen=max_len)\n",
    "    test_sequences = tok.texts_to_sequences(X_test)\n",
    "    test_sequences_matrix = sequence.pad_sequences(test_sequences,maxlen=max_len)\n",
    "    model = RNN()\n",
    "    model.summary()\n",
    "    model.compile(loss='binary_crossentropy',optimizer=RMSprop(lr = 0.0001),metrics=['accuracy'])\n",
    "    lstm_model =model.fit(sequences_matrix,Y_train,batch_size=128,epochs=14,validation_data=(test_sequences_matrix, Y_test))\n",
    "    loss(lstm_model)\n",
    "    Y_pred = model.predict(test_sequences_matrix)\n",
    "    Y_pred = [1 if i>0.5 else 0 for i in Y_pred]\n",
    "    cv_scores.append(f1_score(Y_test, Y_pred, average='micro'))\n",
    "    \n"
   ]
  },
  {
   "cell_type": "code",
   "execution_count": 83,
   "metadata": {},
   "outputs": [
    {
     "data": {
      "text/plain": [
       "0.799262436150803"
      ]
     },
     "execution_count": 83,
     "metadata": {},
     "output_type": "execute_result"
    }
   ],
   "source": [
    "sum(cv_scores)/10"
   ]
  },
  {
   "cell_type": "code",
   "execution_count": null,
   "metadata": {},
   "outputs": [],
   "source": []
  },
  {
   "cell_type": "code",
   "execution_count": null,
   "metadata": {},
   "outputs": [],
   "source": []
  },
  {
   "cell_type": "markdown",
   "metadata": {},
   "source": [
    "### A learning rate decay might improve the performance"
   ]
  },
  {
   "cell_type": "code",
   "execution_count": 25,
   "metadata": {},
   "outputs": [
    {
     "name": "stdout",
     "output_type": "stream",
     "text": [
      "Model: \"model_3\"\n",
      "_________________________________________________________________\n",
      "Layer (type)                 Output Shape              Param #   \n",
      "=================================================================\n",
      "inputs (InputLayer)          (None, 23)                0         \n",
      "_________________________________________________________________\n",
      "embedding_3 (Embedding)      (None, 23, 50)            750000    \n",
      "_________________________________________________________________\n",
      "lstm_3 (LSTM)                (None, 64)                29440     \n",
      "_________________________________________________________________\n",
      "FC1 (Dense)                  (None, 256)               16640     \n",
      "_________________________________________________________________\n",
      "activation_5 (Activation)    (None, 256)               0         \n",
      "_________________________________________________________________\n",
      "dropout_3 (Dropout)          (None, 256)               0         \n",
      "_________________________________________________________________\n",
      "out_layer (Dense)            (None, 1)                 257       \n",
      "_________________________________________________________________\n",
      "activation_6 (Activation)    (None, 1)                 0         \n",
      "=================================================================\n",
      "Total params: 796,337\n",
      "Trainable params: 796,337\n",
      "Non-trainable params: 0\n",
      "_________________________________________________________________\n"
     ]
    }
   ],
   "source": [
    "model = RNN()\n",
    "model.summary()\n",
    "model.compile(loss='binary_crossentropy',optimizer=RMSprop(lr = 0.0001),metrics=['accuracy'])"
   ]
  },
  {
   "cell_type": "code",
   "execution_count": 26,
   "metadata": {},
   "outputs": [
    {
     "name": "stdout",
     "output_type": "stream",
     "text": [
      "Train on 6470 samples, validate on 1142 samples\n",
      "Epoch 1/6\n",
      "6470/6470 [==============================] - 1s 228us/step - loss: 0.6893 - accuracy: 0.5685 - val_loss: 0.6857 - val_accuracy: 0.5595\n",
      "Epoch 2/6\n",
      "6470/6470 [==============================] - 1s 196us/step - loss: 0.6787 - accuracy: 0.5723 - val_loss: 0.6781 - val_accuracy: 0.5595\n",
      "Epoch 3/6\n",
      "6470/6470 [==============================] - 1s 181us/step - loss: 0.6702 - accuracy: 0.5723 - val_loss: 0.6719 - val_accuracy: 0.5595\n",
      "Epoch 4/6\n",
      "6470/6470 [==============================] - 1s 171us/step - loss: 0.6574 - accuracy: 0.5760 - val_loss: 0.6614 - val_accuracy: 0.5665\n",
      "Epoch 5/6\n",
      "6470/6470 [==============================] - 1s 173us/step - loss: 0.6377 - accuracy: 0.6338 - val_loss: 0.6384 - val_accuracy: 0.6594\n",
      "Epoch 6/6\n",
      "6470/6470 [==============================] - 1s 172us/step - loss: 0.6104 - accuracy: 0.7107 - val_loss: 0.6359 - val_accuracy: 0.6532\n"
     ]
    }
   ],
   "source": [
    "# Running this model for 6 epochs\n",
    "lstm_model =model.fit(sequences_matrix,Y_train,batch_size=128,epochs=6,validation_data=(test_sequences_matrix, Y_test))"
   ]
  },
  {
   "cell_type": "code",
   "execution_count": 27,
   "metadata": {},
   "outputs": [
    {
     "name": "stdout",
     "output_type": "stream",
     "text": [
      "Model: \"model_4\"\n",
      "_________________________________________________________________\n",
      "Layer (type)                 Output Shape              Param #   \n",
      "=================================================================\n",
      "inputs (InputLayer)          (None, 23)                0         \n",
      "_________________________________________________________________\n",
      "embedding_4 (Embedding)      (None, 23, 50)            750000    \n",
      "_________________________________________________________________\n",
      "lstm_4 (LSTM)                (None, 64)                29440     \n",
      "_________________________________________________________________\n",
      "FC1 (Dense)                  (None, 256)               16640     \n",
      "_________________________________________________________________\n",
      "activation_7 (Activation)    (None, 256)               0         \n",
      "_________________________________________________________________\n",
      "dropout_4 (Dropout)          (None, 256)               0         \n",
      "_________________________________________________________________\n",
      "out_layer (Dense)            (None, 1)                 257       \n",
      "_________________________________________________________________\n",
      "activation_8 (Activation)    (None, 1)                 0         \n",
      "=================================================================\n",
      "Total params: 796,337\n",
      "Trainable params: 796,337\n",
      "Non-trainable params: 0\n",
      "_________________________________________________________________\n"
     ]
    }
   ],
   "source": [
    "# Decaying the learning rate using a step wise decay \n",
    "model2 = RNN()\n",
    "model2.summary()\n",
    "model2.compile(loss='binary_crossentropy',optimizer=RMSprop(lr = 0.00005),metrics=['accuracy'])"
   ]
  },
  {
   "cell_type": "code",
   "execution_count": 30,
   "metadata": {},
   "outputs": [],
   "source": [
    "model2.set_weights(model.get_weights())"
   ]
  },
  {
   "cell_type": "code",
   "execution_count": 31,
   "metadata": {},
   "outputs": [
    {
     "name": "stdout",
     "output_type": "stream",
     "text": [
      "Train on 6470 samples, validate on 1142 samples\n",
      "Epoch 1/15\n",
      "6470/6470 [==============================] - 1s 217us/step - loss: 0.5854 - accuracy: 0.7391 - val_loss: 0.6096 - val_accuracy: 0.6909\n",
      "Epoch 2/15\n",
      "6470/6470 [==============================] - 1s 187us/step - loss: 0.5641 - accuracy: 0.7604 - val_loss: 0.5926 - val_accuracy: 0.7058\n",
      "Epoch 3/15\n",
      "6470/6470 [==============================] - 1s 183us/step - loss: 0.5403 - accuracy: 0.7818 - val_loss: 0.5787 - val_accuracy: 0.7172\n",
      "Epoch 4/15\n",
      "6470/6470 [==============================] - 1s 181us/step - loss: 0.5115 - accuracy: 0.7918 - val_loss: 0.5525 - val_accuracy: 0.7408\n",
      "Epoch 5/15\n",
      "6470/6470 [==============================] - 1s 171us/step - loss: 0.4827 - accuracy: 0.8026 - val_loss: 0.5380 - val_accuracy: 0.7399\n",
      "Epoch 6/15\n",
      "6470/6470 [==============================] - 1s 171us/step - loss: 0.4554 - accuracy: 0.8150 - val_loss: 0.5252 - val_accuracy: 0.7399\n",
      "Epoch 7/15\n",
      "6470/6470 [==============================] - 1s 172us/step - loss: 0.4313 - accuracy: 0.8280 - val_loss: 0.5214 - val_accuracy: 0.7487\n",
      "Epoch 8/15\n",
      "6470/6470 [==============================] - 1s 174us/step - loss: 0.4067 - accuracy: 0.8348 - val_loss: 0.5061 - val_accuracy: 0.7583\n",
      "Epoch 9/15\n",
      "6470/6470 [==============================] - 1s 189us/step - loss: 0.3863 - accuracy: 0.8440 - val_loss: 0.4986 - val_accuracy: 0.7723\n",
      "Epoch 10/15\n",
      "6470/6470 [==============================] - 1s 189us/step - loss: 0.3626 - accuracy: 0.8546 - val_loss: 0.5224 - val_accuracy: 0.7618\n",
      "Epoch 11/15\n",
      "6470/6470 [==============================] - 1s 193us/step - loss: 0.3555 - accuracy: 0.8580 - val_loss: 0.5056 - val_accuracy: 0.7723\n",
      "Epoch 12/15\n",
      "6470/6470 [==============================] - 1s 187us/step - loss: 0.3393 - accuracy: 0.8674 - val_loss: 0.5553 - val_accuracy: 0.7592\n",
      "Epoch 13/15\n",
      "6470/6470 [==============================] - 1s 188us/step - loss: 0.3323 - accuracy: 0.8674 - val_loss: 0.5171 - val_accuracy: 0.7732\n",
      "Epoch 14/15\n",
      "6470/6470 [==============================] - 1s 195us/step - loss: 0.3220 - accuracy: 0.8731 - val_loss: 0.5518 - val_accuracy: 0.7662\n",
      "Epoch 15/15\n",
      "6470/6470 [==============================] - 1s 194us/step - loss: 0.3134 - accuracy: 0.8756 - val_loss: 0.5177 - val_accuracy: 0.7802\n"
     ]
    },
    {
     "data": {
      "image/png": "[encoded data removed]",
      "text/plain": [
       "<Figure size 432x288 with 1 Axes>"
      ]
     },
     "metadata": {
      "needs_background": "light"
     },
     "output_type": "display_data"
    }
   ],
   "source": [
    "lstm_model =model2.fit(sequences_matrix,Y_train,batch_size=128,epochs=15,validation_data=(test_sequences_matrix, Y_test))\n",
    "loss(lstm_model)"
   ]
  },
  {
   "cell_type": "code",
   "execution_count": 32,
   "metadata": {},
   "outputs": [
    {
     "name": "stdout",
     "output_type": "stream",
     "text": [
      "Model: \"model_5\"\n",
      "_________________________________________________________________\n",
      "Layer (type)                 Output Shape              Param #   \n",
      "=================================================================\n",
      "inputs (InputLayer)          (None, 23)                0         \n",
      "_________________________________________________________________\n",
      "embedding_5 (Embedding)      (None, 23, 50)            750000    \n",
      "_________________________________________________________________\n",
      "lstm_5 (LSTM)                (None, 64)                29440     \n",
      "_________________________________________________________________\n",
      "FC1 (Dense)                  (None, 256)               16640     \n",
      "_________________________________________________________________\n",
      "activation_9 (Activation)    (None, 256)               0         \n",
      "_________________________________________________________________\n",
      "dropout_5 (Dropout)          (None, 256)               0         \n",
      "_________________________________________________________________\n",
      "out_layer (Dense)            (None, 1)                 257       \n",
      "_________________________________________________________________\n",
      "activation_10 (Activation)   (None, 1)                 0         \n",
      "=================================================================\n",
      "Total params: 796,337\n",
      "Trainable params: 796,337\n",
      "Non-trainable params: 0\n",
      "_________________________________________________________________\n",
      "Train on 6470 samples, validate on 1142 samples\n",
      "Epoch 1/5\n",
      "6470/6470 [==============================] - 2s 247us/step - loss: 0.5788 - accuracy: 0.7476 - val_loss: 0.6040 - val_accuracy: 0.6979\n",
      "Epoch 2/5\n",
      "6470/6470 [==============================] - 1s 181us/step - loss: 0.5550 - accuracy: 0.7717 - val_loss: 0.5878 - val_accuracy: 0.7084\n",
      "Epoch 3/5\n",
      "6470/6470 [==============================] - 1s 176us/step - loss: 0.5318 - accuracy: 0.7847 - val_loss: 0.5700 - val_accuracy: 0.7172\n",
      "Epoch 4/5\n",
      "6470/6470 [==============================] - 1s 171us/step - loss: 0.5036 - accuracy: 0.7920 - val_loss: 0.5669 - val_accuracy: 0.7242\n",
      "Epoch 5/5\n",
      "6470/6470 [==============================] - 1s 184us/step - loss: 0.4736 - accuracy: 0.8087 - val_loss: 0.5427 - val_accuracy: 0.7373\n"
     ]
    },
    {
     "data": {
      "image/png": "[encoded data removed]",
      "text/plain": [
       "<Figure size 432x288 with 1 Axes>"
      ]
     },
     "metadata": {
      "needs_background": "light"
     },
     "output_type": "display_data"
    }
   ],
   "source": [
    "# Noise can be seen again after 5 epochs. So running on this learning rate for 5 epochs\n",
    "# Decaying the learning rate using a step wise decay \n",
    "model2 = RNN()\n",
    "model2.summary()\n",
    "model2.compile(loss='binary_crossentropy',optimizer=RMSprop(lr = 0.00005),metrics=['accuracy'])\n",
    "model2.set_weights(model.get_weights())\n",
    "lstm_model =model2.fit(sequences_matrix,Y_train,batch_size=128,epochs=5,validation_data=(test_sequences_matrix, Y_test))\n",
    "loss(lstm_model)"
   ]
  },
  {
   "cell_type": "code",
   "execution_count": 34,
   "metadata": {},
   "outputs": [
    {
     "name": "stdout",
     "output_type": "stream",
     "text": [
      "Model: \"model_7\"\n",
      "_________________________________________________________________\n",
      "Layer (type)                 Output Shape              Param #   \n",
      "=================================================================\n",
      "inputs (InputLayer)          (None, 23)                0         \n",
      "_________________________________________________________________\n",
      "embedding_7 (Embedding)      (None, 23, 50)            750000    \n",
      "_________________________________________________________________\n",
      "lstm_7 (LSTM)                (None, 64)                29440     \n",
      "_________________________________________________________________\n",
      "FC1 (Dense)                  (None, 256)               16640     \n",
      "_________________________________________________________________\n",
      "activation_13 (Activation)   (None, 256)               0         \n",
      "_________________________________________________________________\n",
      "dropout_7 (Dropout)          (None, 256)               0         \n",
      "_________________________________________________________________\n",
      "out_layer (Dense)            (None, 1)                 257       \n",
      "_________________________________________________________________\n",
      "activation_14 (Activation)   (None, 1)                 0         \n",
      "=================================================================\n",
      "Total params: 796,337\n",
      "Trainable params: 796,337\n",
      "Non-trainable params: 0\n",
      "_________________________________________________________________\n",
      "Train on 6470 samples, validate on 1142 samples\n",
      "Epoch 1/50\n",
      "6470/6470 [==============================] - 2s 286us/step - loss: 0.4568 - accuracy: 0.8134 - val_loss: 0.5411 - val_accuracy: 0.7399\n",
      "Epoch 2/50\n",
      "6470/6470 [==============================] - 1s 220us/step - loss: 0.4479 - accuracy: 0.8187 - val_loss: 0.5309 - val_accuracy: 0.7382\n",
      "Epoch 3/50\n",
      "6470/6470 [==============================] - 1s 188us/step - loss: 0.4431 - accuracy: 0.8199 - val_loss: 0.5335 - val_accuracy: 0.7434\n",
      "Epoch 4/50\n",
      "6470/6470 [==============================] - 1s 180us/step - loss: 0.4354 - accuracy: 0.8247 - val_loss: 0.5296 - val_accuracy: 0.7434\n",
      "Epoch 5/50\n",
      "6470/6470 [==============================] - 1s 179us/step - loss: 0.4322 - accuracy: 0.8261 - val_loss: 0.5310 - val_accuracy: 0.7452\n",
      "Epoch 6/50\n",
      "6470/6470 [==============================] - 1s 181us/step - loss: 0.4245 - accuracy: 0.8274 - val_loss: 0.5272 - val_accuracy: 0.7461\n",
      "Epoch 7/50\n",
      "6470/6470 [==============================] - 1s 193us/step - loss: 0.4196 - accuracy: 0.8295 - val_loss: 0.5277 - val_accuracy: 0.7469\n",
      "Epoch 8/50\n",
      "6470/6470 [==============================] - 1s 202us/step - loss: 0.4136 - accuracy: 0.8329 - val_loss: 0.5268 - val_accuracy: 0.7487\n",
      "Epoch 9/50\n",
      "6470/6470 [==============================] - 1s 177us/step - loss: 0.4116 - accuracy: 0.8314 - val_loss: 0.5228 - val_accuracy: 0.7496\n",
      "Epoch 10/50\n",
      "6470/6470 [==============================] - 1s 186us/step - loss: 0.4045 - accuracy: 0.8338 - val_loss: 0.5189 - val_accuracy: 0.7504\n",
      "Epoch 11/50\n",
      "6470/6470 [==============================] - 1s 192us/step - loss: 0.4005 - accuracy: 0.8382 - val_loss: 0.5224 - val_accuracy: 0.7478\n",
      "Epoch 12/50\n",
      "6470/6470 [==============================] - 1s 198us/step - loss: 0.3975 - accuracy: 0.8385 - val_loss: 0.5188 - val_accuracy: 0.7513\n",
      "Epoch 13/50\n",
      "6470/6470 [==============================] - 1s 189us/step - loss: 0.3950 - accuracy: 0.8416 - val_loss: 0.5145 - val_accuracy: 0.7548\n",
      "Epoch 14/50\n",
      "6470/6470 [==============================] - 1s 187us/step - loss: 0.3919 - accuracy: 0.8422 - val_loss: 0.5094 - val_accuracy: 0.7566\n",
      "Epoch 15/50\n",
      "6470/6470 [==============================] - 1s 173us/step - loss: 0.3834 - accuracy: 0.8447 - val_loss: 0.5098 - val_accuracy: 0.7574\n",
      "Epoch 16/50\n",
      "6470/6470 [==============================] - 1s 174us/step - loss: 0.3802 - accuracy: 0.8481 - val_loss: 0.5094 - val_accuracy: 0.7583\n",
      "Epoch 17/50\n",
      "6470/6470 [==============================] - 1s 182us/step - loss: 0.3775 - accuracy: 0.8476 - val_loss: 0.5186 - val_accuracy: 0.7557\n",
      "Epoch 18/50\n",
      "6470/6470 [==============================] - 1s 176us/step - loss: 0.3744 - accuracy: 0.8482 - val_loss: 0.5139 - val_accuracy: 0.7574\n",
      "Epoch 19/50\n",
      "6470/6470 [==============================] - 1s 185us/step - loss: 0.3708 - accuracy: 0.8521 - val_loss: 0.5117 - val_accuracy: 0.7627\n",
      "Epoch 20/50\n",
      "6470/6470 [==============================] - 1s 189us/step - loss: 0.3675 - accuracy: 0.8515 - val_loss: 0.5116 - val_accuracy: 0.7627\n",
      "Epoch 21/50\n",
      "6470/6470 [==============================] - 1s 193us/step - loss: 0.3652 - accuracy: 0.8566 - val_loss: 0.5105 - val_accuracy: 0.7609\n",
      "Epoch 22/50\n",
      "6470/6470 [==============================] - 1s 181us/step - loss: 0.3599 - accuracy: 0.8544 - val_loss: 0.5108 - val_accuracy: 0.7618\n",
      "Epoch 23/50\n",
      "6470/6470 [==============================] - 1s 175us/step - loss: 0.3582 - accuracy: 0.8544 - val_loss: 0.5111 - val_accuracy: 0.7618\n",
      "Epoch 24/50\n",
      "6470/6470 [==============================] - 1s 176us/step - loss: 0.3536 - accuracy: 0.8556 - val_loss: 0.5082 - val_accuracy: 0.7680\n",
      "Epoch 25/50\n",
      "6470/6470 [==============================] - 1s 179us/step - loss: 0.3523 - accuracy: 0.8600 - val_loss: 0.5074 - val_accuracy: 0.7688\n",
      "Epoch 26/50\n",
      "6470/6470 [==============================] - 1s 182us/step - loss: 0.3478 - accuracy: 0.8617 - val_loss: 0.5239 - val_accuracy: 0.7644\n",
      "Epoch 27/50\n",
      "6470/6470 [==============================] - 1s 195us/step - loss: 0.3462 - accuracy: 0.8609 - val_loss: 0.5189 - val_accuracy: 0.7636\n",
      "Epoch 28/50\n",
      "6470/6470 [==============================] - 1s 177us/step - loss: 0.3453 - accuracy: 0.8615 - val_loss: 0.5133 - val_accuracy: 0.7662\n",
      "Epoch 29/50\n",
      "6470/6470 [==============================] - 1s 178us/step - loss: 0.3418 - accuracy: 0.8612 - val_loss: 0.5115 - val_accuracy: 0.7715\n",
      "Epoch 30/50\n",
      "6470/6470 [==============================] - 1s 185us/step - loss: 0.3383 - accuracy: 0.8651 - val_loss: 0.5051 - val_accuracy: 0.7732\n",
      "Epoch 31/50\n",
      "6470/6470 [==============================] - 1s 182us/step - loss: 0.3369 - accuracy: 0.8668 - val_loss: 0.5236 - val_accuracy: 0.7653\n",
      "Epoch 32/50\n",
      "6470/6470 [==============================] - 1s 177us/step - loss: 0.3356 - accuracy: 0.8652 - val_loss: 0.5113 - val_accuracy: 0.7750\n",
      "Epoch 33/50\n",
      "6470/6470 [==============================] - 1s 179us/step - loss: 0.3334 - accuracy: 0.8666 - val_loss: 0.5134 - val_accuracy: 0.7741\n",
      "Epoch 34/50\n",
      "6470/6470 [==============================] - 1s 189us/step - loss: 0.3299 - accuracy: 0.8700 - val_loss: 0.5180 - val_accuracy: 0.7732\n",
      "Epoch 35/50\n",
      "6470/6470 [==============================] - 1s 194us/step - loss: 0.3297 - accuracy: 0.8677 - val_loss: 0.5123 - val_accuracy: 0.7758\n",
      "Epoch 36/50\n",
      "6470/6470 [==============================] - 1s 178us/step - loss: 0.3235 - accuracy: 0.8689 - val_loss: 0.5233 - val_accuracy: 0.7706\n",
      "Epoch 37/50\n",
      "6470/6470 [==============================] - 1s 174us/step - loss: 0.3252 - accuracy: 0.8694 - val_loss: 0.5211 - val_accuracy: 0.7732\n",
      "Epoch 38/50\n",
      "6470/6470 [==============================] - 1s 180us/step - loss: 0.3223 - accuracy: 0.8699 - val_loss: 0.5147 - val_accuracy: 0.7776\n",
      "Epoch 39/50\n",
      "6470/6470 [==============================] - 1s 177us/step - loss: 0.3190 - accuracy: 0.8716 - val_loss: 0.5206 - val_accuracy: 0.7732\n",
      "Epoch 40/50\n",
      "6470/6470 [==============================] - 1s 191us/step - loss: 0.3164 - accuracy: 0.8737 - val_loss: 0.5160 - val_accuracy: 0.7811\n",
      "Epoch 41/50\n",
      "6470/6470 [==============================] - 1s 186us/step - loss: 0.3172 - accuracy: 0.8714 - val_loss: 0.5086 - val_accuracy: 0.7732\n",
      "Epoch 42/50\n",
      "6470/6470 [==============================] - 1s 183us/step - loss: 0.3121 - accuracy: 0.8762 - val_loss: 0.5290 - val_accuracy: 0.7697\n",
      "Epoch 43/50\n",
      "6470/6470 [==============================] - 1s 188us/step - loss: 0.3118 - accuracy: 0.8765 - val_loss: 0.5215 - val_accuracy: 0.7758\n",
      "Epoch 44/50\n",
      "6470/6470 [==============================] - 1s 181us/step - loss: 0.3113 - accuracy: 0.8773 - val_loss: 0.5360 - val_accuracy: 0.7697\n",
      "Epoch 45/50\n",
      "6470/6470 [==============================] - 1s 173us/step - loss: 0.3109 - accuracy: 0.8756 - val_loss: 0.5145 - val_accuracy: 0.7741\n",
      "Epoch 46/50\n",
      "6470/6470 [==============================] - 1s 192us/step - loss: 0.3062 - accuracy: 0.8781 - val_loss: 0.5300 - val_accuracy: 0.7723\n"
     ]
    },
    {
     "name": "stdout",
     "output_type": "stream",
     "text": [
      "Epoch 47/50\n",
      "6470/6470 [==============================] - 1s 187us/step - loss: 0.3057 - accuracy: 0.8794 - val_loss: 0.5344 - val_accuracy: 0.7715\n",
      "Epoch 48/50\n",
      "6470/6470 [==============================] - 1s 196us/step - loss: 0.3034 - accuracy: 0.8816 - val_loss: 0.5201 - val_accuracy: 0.7802\n",
      "Epoch 49/50\n",
      "6470/6470 [==============================] - 1s 189us/step - loss: 0.3015 - accuracy: 0.8816 - val_loss: 0.5154 - val_accuracy: 0.7758\n",
      "Epoch 50/50\n",
      "6470/6470 [==============================] - 1s 179us/step - loss: 0.2977 - accuracy: 0.8827 - val_loss: 0.5341 - val_accuracy: 0.7758\n"
     ]
    },
    {
     "data": {
      "image/png": "[encoded data removed]",
      "text/plain": [
       "<Figure size 432x288 with 1 Axes>"
      ]
     },
     "metadata": {
      "needs_background": "light"
     },
     "output_type": "display_data"
    }
   ],
   "source": [
    "# Decaying the learning rate using a step wise decay \n",
    "model3 = RNN()\n",
    "model3.summary()\n",
    "model3.compile(loss='binary_crossentropy',optimizer=RMSprop(lr = 0.00001),metrics=['accuracy'])\n",
    "model3.set_weights(model2.get_weights())\n",
    "lstm_model =model3.fit(sequences_matrix,Y_train,batch_size=128,epochs=50,validation_data=(test_sequences_matrix, Y_test))\n",
    "loss(lstm_model)"
   ]
  },
  {
   "cell_type": "code",
   "execution_count": 35,
   "metadata": {},
   "outputs": [
    {
     "name": "stdout",
     "output_type": "stream",
     "text": [
      "Model: \"model_8\"\n",
      "_________________________________________________________________\n",
      "Layer (type)                 Output Shape              Param #   \n",
      "=================================================================\n",
      "inputs (InputLayer)          (None, 23)                0         \n",
      "_________________________________________________________________\n",
      "embedding_8 (Embedding)      (None, 23, 50)            750000    \n",
      "_________________________________________________________________\n",
      "lstm_8 (LSTM)                (None, 64)                29440     \n",
      "_________________________________________________________________\n",
      "FC1 (Dense)                  (None, 256)               16640     \n",
      "_________________________________________________________________\n",
      "activation_15 (Activation)   (None, 256)               0         \n",
      "_________________________________________________________________\n",
      "dropout_8 (Dropout)          (None, 256)               0         \n",
      "_________________________________________________________________\n",
      "out_layer (Dense)            (None, 1)                 257       \n",
      "_________________________________________________________________\n",
      "activation_16 (Activation)   (None, 1)                 0         \n",
      "=================================================================\n",
      "Total params: 796,337\n",
      "Trainable params: 796,337\n",
      "Non-trainable params: 0\n",
      "_________________________________________________________________\n",
      "Train on 6470 samples, validate on 1142 samples\n",
      "Epoch 1/25\n",
      "6470/6470 [==============================] - 2s 285us/step - loss: 0.4548 - accuracy: 0.8176 - val_loss: 0.5453 - val_accuracy: 0.7373\n",
      "Epoch 2/25\n",
      "6470/6470 [==============================] - 1s 207us/step - loss: 0.4503 - accuracy: 0.8159 - val_loss: 0.5381 - val_accuracy: 0.7399\n",
      "Epoch 3/25\n",
      "6470/6470 [==============================] - 1s 183us/step - loss: 0.4406 - accuracy: 0.8206 - val_loss: 0.5457 - val_accuracy: 0.7391\n",
      "Epoch 4/25\n",
      "6470/6470 [==============================] - 1s 192us/step - loss: 0.4360 - accuracy: 0.8241 - val_loss: 0.5356 - val_accuracy: 0.7417\n",
      "Epoch 5/25\n",
      "6470/6470 [==============================] - 1s 186us/step - loss: 0.4296 - accuracy: 0.8243 - val_loss: 0.5314 - val_accuracy: 0.7452\n",
      "Epoch 6/25\n",
      "6470/6470 [==============================] - 1s 176us/step - loss: 0.4265 - accuracy: 0.8275 - val_loss: 0.5245 - val_accuracy: 0.7478\n",
      "Epoch 7/25\n",
      "6470/6470 [==============================] - 1s 191us/step - loss: 0.4197 - accuracy: 0.8312 - val_loss: 0.5237 - val_accuracy: 0.7478\n",
      "Epoch 8/25\n",
      "6470/6470 [==============================] - 1s 189us/step - loss: 0.4133 - accuracy: 0.8328 - val_loss: 0.5262 - val_accuracy: 0.7487\n",
      "Epoch 9/25\n",
      "6470/6470 [==============================] - 1s 196us/step - loss: 0.4076 - accuracy: 0.8328 - val_loss: 0.5139 - val_accuracy: 0.7504\n",
      "Epoch 10/25\n",
      "6470/6470 [==============================] - 1s 188us/step - loss: 0.4067 - accuracy: 0.8389 - val_loss: 0.5109 - val_accuracy: 0.7531\n",
      "Epoch 11/25\n",
      "6470/6470 [==============================] - 1s 182us/step - loss: 0.3992 - accuracy: 0.8359 - val_loss: 0.5116 - val_accuracy: 0.7513\n",
      "Epoch 12/25\n",
      "6470/6470 [==============================] - 1s 183us/step - loss: 0.3959 - accuracy: 0.8396 - val_loss: 0.5170 - val_accuracy: 0.7513\n",
      "Epoch 13/25\n",
      "6470/6470 [==============================] - 1s 180us/step - loss: 0.3919 - accuracy: 0.8411 - val_loss: 0.5195 - val_accuracy: 0.7522\n",
      "Epoch 14/25\n",
      "6470/6470 [==============================] - 1s 185us/step - loss: 0.3878 - accuracy: 0.8416 - val_loss: 0.5191 - val_accuracy: 0.7522\n",
      "Epoch 15/25\n",
      "6470/6470 [==============================] - 1s 193us/step - loss: 0.3845 - accuracy: 0.8461 - val_loss: 0.5313 - val_accuracy: 0.7522\n",
      "Epoch 16/25\n",
      "6470/6470 [==============================] - 1s 180us/step - loss: 0.3800 - accuracy: 0.8461 - val_loss: 0.5109 - val_accuracy: 0.7583\n",
      "Epoch 17/25\n",
      "6470/6470 [==============================] - 1s 183us/step - loss: 0.3781 - accuracy: 0.8447 - val_loss: 0.5054 - val_accuracy: 0.7627\n",
      "Epoch 18/25\n",
      "6470/6470 [==============================] - 1s 177us/step - loss: 0.3724 - accuracy: 0.8499 - val_loss: 0.5168 - val_accuracy: 0.7583\n",
      "Epoch 19/25\n",
      "6470/6470 [==============================] - 1s 176us/step - loss: 0.3696 - accuracy: 0.8493 - val_loss: 0.5114 - val_accuracy: 0.7618\n",
      "Epoch 20/25\n",
      "6470/6470 [==============================] - 1s 183us/step - loss: 0.3665 - accuracy: 0.8496 - val_loss: 0.5047 - val_accuracy: 0.7662\n",
      "Epoch 21/25\n",
      "6470/6470 [==============================] - 1s 226us/step - loss: 0.3605 - accuracy: 0.8553 - val_loss: 0.5164 - val_accuracy: 0.7618\n",
      "Epoch 22/25\n",
      "6470/6470 [==============================] - 1s 201us/step - loss: 0.3609 - accuracy: 0.8532 - val_loss: 0.5134 - val_accuracy: 0.7609\n",
      "Epoch 23/25\n",
      "6470/6470 [==============================] - 1s 187us/step - loss: 0.3558 - accuracy: 0.8578 - val_loss: 0.5103 - val_accuracy: 0.7627\n",
      "Epoch 24/25\n",
      "6470/6470 [==============================] - 1s 185us/step - loss: 0.3557 - accuracy: 0.8555 - val_loss: 0.5044 - val_accuracy: 0.7706\n",
      "Epoch 25/25\n",
      "6470/6470 [==============================] - 1s 186us/step - loss: 0.3508 - accuracy: 0.8609 - val_loss: 0.5174 - val_accuracy: 0.7627\n"
     ]
    },
    {
     "data": {
      "image/png": "[encoded data removed]",
      "text/plain": [
       "<Figure size 432x288 with 1 Axes>"
      ]
     },
     "metadata": {
      "needs_background": "light"
     },
     "output_type": "display_data"
    }
   ],
   "source": [
    "# The loss again sees noise after 25 epochs\n",
    "# Training on 25 epochs and agian decaying the learning rate\n",
    "model3 = RNN()\n",
    "model3.summary()\n",
    "model3.compile(loss='binary_crossentropy',optimizer=RMSprop(lr = 0.00001),metrics=['accuracy'])\n",
    "model3.set_weights(model2.get_weights())\n",
    "lstm_model =model3.fit(sequences_matrix,Y_train,batch_size=128,epochs=25,validation_data=(test_sequences_matrix, Y_test))\n",
    "loss(lstm_model)"
   ]
  },
  {
   "cell_type": "code",
   "execution_count": 38,
   "metadata": {},
   "outputs": [
    {
     "name": "stdout",
     "output_type": "stream",
     "text": [
      "Model: \"model_11\"\n",
      "_________________________________________________________________\n",
      "Layer (type)                 Output Shape              Param #   \n",
      "=================================================================\n",
      "inputs (InputLayer)          (None, 23)                0         \n",
      "_________________________________________________________________\n",
      "embedding_11 (Embedding)     (None, 23, 50)            750000    \n",
      "_________________________________________________________________\n",
      "lstm_11 (LSTM)               (None, 64)                29440     \n",
      "_________________________________________________________________\n",
      "FC1 (Dense)                  (None, 256)               16640     \n",
      "_________________________________________________________________\n",
      "activation_21 (Activation)   (None, 256)               0         \n",
      "_________________________________________________________________\n",
      "dropout_11 (Dropout)         (None, 256)               0         \n",
      "_________________________________________________________________\n",
      "out_layer (Dense)            (None, 1)                 257       \n",
      "_________________________________________________________________\n",
      "activation_22 (Activation)   (None, 1)                 0         \n",
      "=================================================================\n",
      "Total params: 796,337\n",
      "Trainable params: 796,337\n",
      "Non-trainable params: 0\n",
      "_________________________________________________________________\n",
      "Train on 6470 samples, validate on 1142 samples\n",
      "Epoch 1/15\n",
      "6470/6470 [==============================] - 2s 267us/step - loss: 0.3477 - accuracy: 0.8598 - val_loss: 0.5149 - val_accuracy: 0.7662\n",
      "Epoch 2/15\n",
      "6470/6470 [==============================] - 1s 190us/step - loss: 0.3468 - accuracy: 0.8586 - val_loss: 0.5097 - val_accuracy: 0.7680\n",
      "Epoch 3/15\n",
      "6470/6470 [==============================] - 1s 188us/step - loss: 0.3479 - accuracy: 0.8581 - val_loss: 0.5128 - val_accuracy: 0.7662\n",
      "Epoch 4/15\n",
      "6470/6470 [==============================] - 1s 200us/step - loss: 0.3455 - accuracy: 0.8612 - val_loss: 0.5217 - val_accuracy: 0.7627\n",
      "Epoch 5/15\n",
      "6470/6470 [==============================] - 1s 206us/step - loss: 0.3452 - accuracy: 0.8589 - val_loss: 0.5070 - val_accuracy: 0.7732\n",
      "Epoch 6/15\n",
      "6470/6470 [==============================] - 1s 196us/step - loss: 0.3414 - accuracy: 0.8609 - val_loss: 0.5138 - val_accuracy: 0.7680\n",
      "Epoch 7/15\n",
      "6470/6470 [==============================] - 1s 211us/step - loss: 0.3408 - accuracy: 0.8623 - val_loss: 0.5110 - val_accuracy: 0.7732\n",
      "Epoch 8/15\n",
      "6470/6470 [==============================] - 1s 201us/step - loss: 0.3389 - accuracy: 0.8660 - val_loss: 0.5174 - val_accuracy: 0.7671\n",
      "Epoch 9/15\n",
      "6470/6470 [==============================] - 1s 207us/step - loss: 0.3395 - accuracy: 0.8638 - val_loss: 0.5100 - val_accuracy: 0.7723\n",
      "Epoch 10/15\n",
      "6470/6470 [==============================] - 1s 211us/step - loss: 0.3400 - accuracy: 0.8646 - val_loss: 0.5131 - val_accuracy: 0.7706\n",
      "Epoch 11/15\n",
      "6470/6470 [==============================] - 1s 204us/step - loss: 0.3352 - accuracy: 0.8641 - val_loss: 0.5205 - val_accuracy: 0.7688\n",
      "Epoch 12/15\n",
      "6470/6470 [==============================] - 1s 223us/step - loss: 0.3342 - accuracy: 0.8665 - val_loss: 0.5146 - val_accuracy: 0.7706\n",
      "Epoch 13/15\n",
      "6470/6470 [==============================] - 1s 191us/step - loss: 0.3348 - accuracy: 0.8686 - val_loss: 0.5164 - val_accuracy: 0.7706\n",
      "Epoch 14/15\n",
      "6470/6470 [==============================] - 1s 188us/step - loss: 0.3344 - accuracy: 0.8665 - val_loss: 0.5113 - val_accuracy: 0.7758\n",
      "Epoch 15/15\n",
      "6470/6470 [==============================] - 1s 188us/step - loss: 0.3342 - accuracy: 0.8668 - val_loss: 0.5148 - val_accuracy: 0.7758\n"
     ]
    },
    {
     "data": {
      "image/png": "[encoded data removed]",
      "text/plain": [
       "<Figure size 432x288 with 1 Axes>"
      ]
     },
     "metadata": {
      "needs_background": "light"
     },
     "output_type": "display_data"
    }
   ],
   "source": [
    "# Training on 15 epochs and agian decaying the learning rate\n",
    "model4 = RNN()\n",
    "model4.summary()\n",
    "model4.compile(loss='binary_crossentropy',optimizer=RMSprop(lr = 0.000005),metrics=['accuracy'])\n",
    "model4.set_weights(model3.get_weights())\n",
    "lstm_model =model4.fit(sequences_matrix,Y_train,batch_size=128,epochs=15,validation_data=(test_sequences_matrix, Y_test))\n",
    "loss(lstm_model)"
   ]
  },
  {
   "cell_type": "code",
   "execution_count": 39,
   "metadata": {},
   "outputs": [
    {
     "name": "stdout",
     "output_type": "stream",
     "text": [
      "Model: \"model_12\"\n",
      "_________________________________________________________________\n",
      "Layer (type)                 Output Shape              Param #   \n",
      "=================================================================\n",
      "inputs (InputLayer)          (None, 23)                0         \n",
      "_________________________________________________________________\n",
      "embedding_12 (Embedding)     (None, 23, 50)            750000    \n",
      "_________________________________________________________________\n",
      "lstm_12 (LSTM)               (None, 64)                29440     \n",
      "_________________________________________________________________\n",
      "FC1 (Dense)                  (None, 256)               16640     \n",
      "_________________________________________________________________\n",
      "activation_23 (Activation)   (None, 256)               0         \n",
      "_________________________________________________________________\n",
      "dropout_12 (Dropout)         (None, 256)               0         \n",
      "_________________________________________________________________\n",
      "out_layer (Dense)            (None, 1)                 257       \n",
      "_________________________________________________________________\n",
      "activation_24 (Activation)   (None, 1)                 0         \n",
      "=================================================================\n",
      "Total params: 796,337\n",
      "Trainable params: 796,337\n",
      "Non-trainable params: 0\n",
      "_________________________________________________________________\n",
      "Train on 6470 samples, validate on 1142 samples\n",
      "Epoch 1/15\n",
      "6470/6470 [==============================] - 2s 244us/step - loss: 0.3292 - accuracy: 0.8697 - val_loss: 0.5209 - val_accuracy: 0.7697\n",
      "Epoch 2/15\n",
      "6470/6470 [==============================] - 1s 207us/step - loss: 0.3291 - accuracy: 0.8675 - val_loss: 0.5122 - val_accuracy: 0.7750\n",
      "Epoch 3/15\n",
      "6470/6470 [==============================] - 1s 208us/step - loss: 0.3274 - accuracy: 0.8671 - val_loss: 0.5123 - val_accuracy: 0.7758\n",
      "Epoch 4/15\n",
      "6470/6470 [==============================] - 1s 213us/step - loss: 0.3272 - accuracy: 0.8663 - val_loss: 0.5245 - val_accuracy: 0.7680\n",
      "Epoch 5/15\n",
      "6470/6470 [==============================] - 1s 221us/step - loss: 0.3257 - accuracy: 0.8689 - val_loss: 0.5148 - val_accuracy: 0.7750\n",
      "Epoch 6/15\n",
      "6470/6470 [==============================] - 1s 205us/step - loss: 0.3246 - accuracy: 0.8711 - val_loss: 0.5167 - val_accuracy: 0.7750\n",
      "Epoch 7/15\n",
      "6470/6470 [==============================] - 1s 202us/step - loss: 0.3240 - accuracy: 0.8709 - val_loss: 0.5161 - val_accuracy: 0.7758\n",
      "Epoch 8/15\n",
      "6470/6470 [==============================] - 1s 205us/step - loss: 0.3223 - accuracy: 0.8736 - val_loss: 0.5184 - val_accuracy: 0.7732\n",
      "Epoch 9/15\n",
      "6470/6470 [==============================] - 1s 217us/step - loss: 0.3226 - accuracy: 0.8709 - val_loss: 0.5138 - val_accuracy: 0.7785\n",
      "Epoch 10/15\n",
      "6470/6470 [==============================] - 1s 231us/step - loss: 0.3218 - accuracy: 0.8703 - val_loss: 0.5218 - val_accuracy: 0.7741\n",
      "Epoch 11/15\n",
      "6470/6470 [==============================] - 1s 207us/step - loss: 0.3203 - accuracy: 0.8740 - val_loss: 0.5202 - val_accuracy: 0.7732\n",
      "Epoch 12/15\n",
      "6470/6470 [==============================] - 1s 202us/step - loss: 0.3204 - accuracy: 0.8726 - val_loss: 0.5150 - val_accuracy: 0.7802\n",
      "Epoch 13/15\n",
      "6470/6470 [==============================] - 1s 202us/step - loss: 0.3195 - accuracy: 0.8740 - val_loss: 0.5180 - val_accuracy: 0.7767\n",
      "Epoch 14/15\n",
      "6470/6470 [==============================] - 1s 195us/step - loss: 0.3180 - accuracy: 0.8762 - val_loss: 0.5155 - val_accuracy: 0.7811\n",
      "Epoch 15/15\n",
      "6470/6470 [==============================] - 1s 205us/step - loss: 0.3175 - accuracy: 0.8719 - val_loss: 0.5237 - val_accuracy: 0.7741\n"
     ]
    },
    {
     "data": {
      "image/png": "[encoded data removed]",
      "text/plain": [
       "<Figure size 432x288 with 1 Axes>"
      ]
     },
     "metadata": {
      "needs_background": "light"
     },
     "output_type": "display_data"
    }
   ],
   "source": [
    "# Training on 25 epochs and agian decaying the learning rate\n",
    "model5 = RNN()\n",
    "model5.summary()\n",
    "model5.compile(loss='binary_crossentropy',optimizer=RMSprop(lr = 0.000001),metrics=['accuracy'])\n",
    "model5.set_weights(model4.get_weights())\n",
    "lstm_model =model4.fit(sequences_matrix,Y_train,batch_size=128,epochs=15,validation_data=(test_sequences_matrix, Y_test))\n",
    "loss(lstm_model)"
   ]
  },
  {
   "cell_type": "code",
   "execution_count": 66,
   "metadata": {},
   "outputs": [
    {
     "name": "stdout",
     "output_type": "stream",
     "text": [
      "Model: \"model_30\"\n",
      "_________________________________________________________________\n",
      "Layer (type)                 Output Shape              Param #   \n",
      "=================================================================\n",
      "inputs (InputLayer)          (None, 23)                0         \n",
      "_________________________________________________________________\n",
      "embedding_30 (Embedding)     (None, 23, 50)            750000    \n",
      "_________________________________________________________________\n",
      "lstm_30 (LSTM)               (None, 64)                29440     \n",
      "_________________________________________________________________\n",
      "FC1 (Dense)                  (None, 256)               16640     \n",
      "_________________________________________________________________\n",
      "activation_59 (Activation)   (None, 256)               0         \n",
      "_________________________________________________________________\n",
      "dropout_30 (Dropout)         (None, 256)               0         \n",
      "_________________________________________________________________\n",
      "out_layer (Dense)            (None, 1)                 257       \n",
      "_________________________________________________________________\n",
      "activation_60 (Activation)   (None, 1)                 0         \n",
      "=================================================================\n",
      "Total params: 796,337\n",
      "Trainable params: 796,337\n",
      "Non-trainable params: 0\n",
      "_________________________________________________________________\n",
      "Train on 6470 samples, validate on 1142 samples\n",
      "Epoch 1/100\n",
      "6470/6470 [==============================] - 4s 603us/step - loss: 0.6365 - accuracy: 0.6326 - val_loss: 0.5636 - val_accuracy: 0.7382\n",
      "Epoch 2/100\n",
      "6470/6470 [==============================] - 3s 440us/step - loss: 0.4564 - accuracy: 0.8134 - val_loss: 0.5029 - val_accuracy: 0.7680\n",
      "Epoch 3/100\n",
      "6470/6470 [==============================] - 3s 446us/step - loss: 0.3909 - accuracy: 0.8362 - val_loss: 0.4886 - val_accuracy: 0.7846\n",
      "Epoch 4/100\n",
      "6470/6470 [==============================] - 3s 444us/step - loss: 0.3601 - accuracy: 0.8495 - val_loss: 0.5128 - val_accuracy: 0.7793\n",
      "Epoch 5/100\n",
      "6470/6470 [==============================] - 3s 460us/step - loss: 0.3460 - accuracy: 0.8563 - val_loss: 0.5059 - val_accuracy: 0.7846\n",
      "Epoch 6/100\n",
      "6470/6470 [==============================] - 3s 459us/step - loss: 0.3359 - accuracy: 0.8604 - val_loss: 0.4904 - val_accuracy: 0.7855\n",
      "Epoch 7/100\n",
      "6470/6470 [==============================] - 3s 459us/step - loss: 0.3263 - accuracy: 0.8680 - val_loss: 0.4943 - val_accuracy: 0.7855\n",
      "Epoch 8/100\n",
      "6470/6470 [==============================] - 3s 448us/step - loss: 0.3218 - accuracy: 0.8688 - val_loss: 0.4903 - val_accuracy: 0.7898\n",
      "Epoch 9/100\n",
      "6470/6470 [==============================] - 3s 458us/step - loss: 0.3152 - accuracy: 0.8737 - val_loss: 0.4952 - val_accuracy: 0.7855\n",
      "Epoch 10/100\n",
      "6470/6470 [==============================] - 3s 447us/step - loss: 0.3094 - accuracy: 0.8730 - val_loss: 0.5011 - val_accuracy: 0.7872\n",
      "Epoch 11/100\n",
      "6470/6470 [==============================] - 3s 467us/step - loss: 0.3066 - accuracy: 0.8757 - val_loss: 0.5006 - val_accuracy: 0.7837\n",
      "Epoch 12/100\n",
      "6470/6470 [==============================] - 3s 440us/step - loss: 0.3011 - accuracy: 0.8799 - val_loss: 0.5012 - val_accuracy: 0.7837\n",
      "Epoch 13/100\n",
      "6470/6470 [==============================] - 3s 441us/step - loss: 0.2991 - accuracy: 0.8810 - val_loss: 0.5007 - val_accuracy: 0.7828\n",
      "Epoch 14/100\n",
      "6470/6470 [==============================] - 3s 441us/step - loss: 0.2971 - accuracy: 0.8821 - val_loss: 0.4995 - val_accuracy: 0.7837\n",
      "Epoch 15/100\n",
      "6470/6470 [==============================] - 3s 447us/step - loss: 0.2937 - accuracy: 0.8830 - val_loss: 0.5096 - val_accuracy: 0.7872\n",
      "Epoch 16/100\n",
      "6470/6470 [==============================] - 3s 464us/step - loss: 0.2924 - accuracy: 0.8839 - val_loss: 0.5075 - val_accuracy: 0.7811\n",
      "Epoch 17/100\n",
      "6470/6470 [==============================] - 3s 444us/step - loss: 0.2884 - accuracy: 0.8859 - val_loss: 0.5055 - val_accuracy: 0.7828\n",
      "Epoch 18/100\n",
      "6470/6470 [==============================] - 3s 449us/step - loss: 0.2848 - accuracy: 0.8859 - val_loss: 0.5074 - val_accuracy: 0.7855\n",
      "Epoch 19/100\n",
      "6470/6470 [==============================] - 3s 441us/step - loss: 0.2855 - accuracy: 0.8855 - val_loss: 0.5058 - val_accuracy: 0.7793\n",
      "Epoch 20/100\n",
      "6470/6470 [==============================] - 3s 459us/step - loss: 0.2821 - accuracy: 0.8862 - val_loss: 0.5044 - val_accuracy: 0.7863\n",
      "Epoch 21/100\n",
      "6470/6470 [==============================] - 3s 468us/step - loss: 0.2787 - accuracy: 0.8886 - val_loss: 0.5055 - val_accuracy: 0.7863\n",
      "Epoch 22/100\n",
      "6470/6470 [==============================] - 3s 480us/step - loss: 0.2789 - accuracy: 0.8903 - val_loss: 0.5048 - val_accuracy: 0.7855\n",
      "Epoch 23/100\n",
      "6470/6470 [==============================] - 3s 465us/step - loss: 0.2765 - accuracy: 0.8913 - val_loss: 0.5102 - val_accuracy: 0.7846\n",
      "Epoch 24/100\n",
      "6470/6470 [==============================] - 3s 442us/step - loss: 0.2749 - accuracy: 0.8929 - val_loss: 0.5095 - val_accuracy: 0.7837\n",
      "Epoch 25/100\n",
      "6470/6470 [==============================] - 3s 437us/step - loss: 0.2735 - accuracy: 0.8915 - val_loss: 0.5078 - val_accuracy: 0.7828\n",
      "Epoch 26/100\n",
      "6470/6470 [==============================] - 3s 455us/step - loss: 0.2716 - accuracy: 0.8910 - val_loss: 0.5080 - val_accuracy: 0.7837\n",
      "Epoch 27/100\n",
      "6470/6470 [==============================] - 3s 451us/step - loss: 0.2706 - accuracy: 0.8921 - val_loss: 0.5101 - val_accuracy: 0.7828\n",
      "Epoch 28/100\n",
      "6470/6470 [==============================] - 3s 435us/step - loss: 0.2721 - accuracy: 0.8929 - val_loss: 0.5116 - val_accuracy: 0.7828\n",
      "Epoch 29/100\n",
      "6470/6470 [==============================] - 3s 434us/step - loss: 0.2705 - accuracy: 0.8937 - val_loss: 0.5114 - val_accuracy: 0.7828\n",
      "Epoch 30/100\n",
      "6470/6470 [==============================] - 3s 447us/step - loss: 0.2687 - accuracy: 0.8940 - val_loss: 0.5102 - val_accuracy: 0.7828\n",
      "Epoch 31/100\n",
      "6470/6470 [==============================] - 3s 449us/step - loss: 0.2652 - accuracy: 0.8940 - val_loss: 0.5128 - val_accuracy: 0.7828\n",
      "Epoch 32/100\n",
      "6470/6470 [==============================] - 3s 461us/step - loss: 0.2641 - accuracy: 0.8958 - val_loss: 0.5118 - val_accuracy: 0.7837\n",
      "Epoch 33/100\n",
      "6470/6470 [==============================] - 3s 450us/step - loss: 0.2651 - accuracy: 0.8957 - val_loss: 0.5134 - val_accuracy: 0.7820\n",
      "Epoch 34/100\n",
      "6470/6470 [==============================] - 3s 470us/step - loss: 0.2641 - accuracy: 0.8944 - val_loss: 0.5130 - val_accuracy: 0.7828\n",
      "Epoch 35/100\n",
      "6470/6470 [==============================] - 3s 451us/step - loss: 0.2631 - accuracy: 0.8977 - val_loss: 0.5165 - val_accuracy: 0.7846\n",
      "Epoch 36/100\n",
      "6470/6470 [==============================] - 3s 455us/step - loss: 0.2612 - accuracy: 0.8985 - val_loss: 0.5131 - val_accuracy: 0.7820\n",
      "Epoch 37/100\n",
      "6470/6470 [==============================] - 3s 432us/step - loss: 0.2620 - accuracy: 0.8977 - val_loss: 0.5151 - val_accuracy: 0.7837\n",
      "Epoch 38/100\n",
      "6470/6470 [==============================] - 3s 466us/step - loss: 0.2599 - accuracy: 0.8985 - val_loss: 0.5147 - val_accuracy: 0.7811\n",
      "Epoch 39/100\n",
      "6470/6470 [==============================] - 3s 465us/step - loss: 0.2576 - accuracy: 0.8989 - val_loss: 0.5150 - val_accuracy: 0.7820\n",
      "Epoch 40/100\n",
      "6470/6470 [==============================] - 3s 464us/step - loss: 0.2595 - accuracy: 0.8997 - val_loss: 0.5161 - val_accuracy: 0.7811\n",
      "Epoch 41/100\n",
      "6470/6470 [==============================] - 3s 460us/step - loss: 0.2569 - accuracy: 0.8981 - val_loss: 0.5165 - val_accuracy: 0.7828\n",
      "Epoch 42/100\n",
      "6470/6470 [==============================] - 3s 456us/step - loss: 0.2570 - accuracy: 0.9005 - val_loss: 0.5170 - val_accuracy: 0.7828\n",
      "Epoch 43/100\n",
      "6470/6470 [==============================] - 3s 471us/step - loss: 0.2546 - accuracy: 0.8988 - val_loss: 0.5180 - val_accuracy: 0.7820\n",
      "Epoch 44/100\n",
      "6470/6470 [==============================] - 3s 463us/step - loss: 0.2557 - accuracy: 0.9012 - val_loss: 0.5201 - val_accuracy: 0.7846\n",
      "Epoch 45/100\n",
      "6470/6470 [==============================] - 3s 415us/step - loss: 0.2537 - accuracy: 0.9014 - val_loss: 0.5194 - val_accuracy: 0.7820\n",
      "Epoch 46/100\n",
      " 128/6470 [..............................] - ETA: 2s - loss: 0.2293 - accuracy: 0.9219"
     ]
    },
    {
     "ename": "KeyboardInterrupt",
     "evalue": "",
     "output_type": "error",
     "traceback": [
      "\u001b[1;31m---------------------------------------------------------------------------\u001b[0m",
      "\u001b[1;31mKeyboardInterrupt\u001b[0m                         Traceback (most recent call last)",
      "\u001b[1;32m<ipython-input-66-16c60d7f6bbf>\u001b[0m in \u001b[0;36m<module>\u001b[1;34m\u001b[0m\n\u001b[0;32m      5\u001b[0m \u001b[0mmodel6\u001b[0m\u001b[1;33m.\u001b[0m\u001b[0msummary\u001b[0m\u001b[1;33m(\u001b[0m\u001b[1;33m)\u001b[0m\u001b[1;33m\u001b[0m\u001b[1;33m\u001b[0m\u001b[0m\n\u001b[0;32m      6\u001b[0m \u001b[0mmodel6\u001b[0m\u001b[1;33m.\u001b[0m\u001b[0mcompile\u001b[0m\u001b[1;33m(\u001b[0m\u001b[0mloss\u001b[0m\u001b[1;33m=\u001b[0m\u001b[1;34m'binary_crossentropy'\u001b[0m\u001b[1;33m,\u001b[0m\u001b[0moptimizer\u001b[0m\u001b[1;33m=\u001b[0m\u001b[0mRMSprop\u001b[0m\u001b[1;33m(\u001b[0m\u001b[0mlr\u001b[0m \u001b[1;33m=\u001b[0m \u001b[1;36m0.005\u001b[0m\u001b[1;33m,\u001b[0m\u001b[0mdecay\u001b[0m\u001b[1;33m=\u001b[0m\u001b[1;36m0.3\u001b[0m\u001b[1;33m)\u001b[0m\u001b[1;33m,\u001b[0m\u001b[0mmetrics\u001b[0m\u001b[1;33m=\u001b[0m\u001b[1;33m[\u001b[0m\u001b[1;34m'accuracy'\u001b[0m\u001b[1;33m]\u001b[0m\u001b[1;33m)\u001b[0m\u001b[1;33m\u001b[0m\u001b[1;33m\u001b[0m\u001b[0m\n\u001b[1;32m----> 7\u001b[1;33m \u001b[0mlstm_model\u001b[0m \u001b[1;33m=\u001b[0m\u001b[0mmodel6\u001b[0m\u001b[1;33m.\u001b[0m\u001b[0mfit\u001b[0m\u001b[1;33m(\u001b[0m\u001b[0msequences_matrix\u001b[0m\u001b[1;33m,\u001b[0m\u001b[0mY_train\u001b[0m\u001b[1;33m,\u001b[0m\u001b[0mbatch_size\u001b[0m\u001b[1;33m=\u001b[0m\u001b[1;36m128\u001b[0m\u001b[1;33m,\u001b[0m\u001b[0mepochs\u001b[0m\u001b[1;33m=\u001b[0m\u001b[1;36m100\u001b[0m\u001b[1;33m,\u001b[0m\u001b[0mvalidation_data\u001b[0m\u001b[1;33m=\u001b[0m\u001b[1;33m(\u001b[0m\u001b[0mtest_sequences_matrix\u001b[0m\u001b[1;33m,\u001b[0m \u001b[0mY_test\u001b[0m\u001b[1;33m)\u001b[0m\u001b[1;33m)\u001b[0m\u001b[1;33m\u001b[0m\u001b[1;33m\u001b[0m\u001b[0m\n\u001b[0m\u001b[0;32m      8\u001b[0m \u001b[0mloss\u001b[0m\u001b[1;33m(\u001b[0m\u001b[0mlstm_model\u001b[0m\u001b[1;33m)\u001b[0m\u001b[1;33m\u001b[0m\u001b[1;33m\u001b[0m\u001b[0m\n",
      "\u001b[1;32m~\\Anaconda3\\lib\\site-packages\\keras\\engine\\training.py\u001b[0m in \u001b[0;36mfit\u001b[1;34m(self, x, y, batch_size, epochs, verbose, callbacks, validation_split, validation_data, shuffle, class_weight, sample_weight, initial_epoch, steps_per_epoch, validation_steps, validation_freq, max_queue_size, workers, use_multiprocessing, **kwargs)\u001b[0m\n\u001b[0;32m   1237\u001b[0m                                         \u001b[0msteps_per_epoch\u001b[0m\u001b[1;33m=\u001b[0m\u001b[0msteps_per_epoch\u001b[0m\u001b[1;33m,\u001b[0m\u001b[1;33m\u001b[0m\u001b[1;33m\u001b[0m\u001b[0m\n\u001b[0;32m   1238\u001b[0m                                         \u001b[0mvalidation_steps\u001b[0m\u001b[1;33m=\u001b[0m\u001b[0mvalidation_steps\u001b[0m\u001b[1;33m,\u001b[0m\u001b[1;33m\u001b[0m\u001b[1;33m\u001b[0m\u001b[0m\n\u001b[1;32m-> 1239\u001b[1;33m                                         validation_freq=validation_freq)\n\u001b[0m\u001b[0;32m   1240\u001b[0m \u001b[1;33m\u001b[0m\u001b[0m\n\u001b[0;32m   1241\u001b[0m     def evaluate(self,\n",
      "\u001b[1;32m~\\Anaconda3\\lib\\site-packages\\keras\\engine\\training_arrays.py\u001b[0m in \u001b[0;36mfit_loop\u001b[1;34m(model, fit_function, fit_inputs, out_labels, batch_size, epochs, verbose, callbacks, val_function, val_inputs, shuffle, initial_epoch, steps_per_epoch, validation_steps, validation_freq)\u001b[0m\n\u001b[0;32m    194\u001b[0m                     \u001b[0mins_batch\u001b[0m\u001b[1;33m[\u001b[0m\u001b[0mi\u001b[0m\u001b[1;33m]\u001b[0m \u001b[1;33m=\u001b[0m \u001b[0mins_batch\u001b[0m\u001b[1;33m[\u001b[0m\u001b[0mi\u001b[0m\u001b[1;33m]\u001b[0m\u001b[1;33m.\u001b[0m\u001b[0mtoarray\u001b[0m\u001b[1;33m(\u001b[0m\u001b[1;33m)\u001b[0m\u001b[1;33m\u001b[0m\u001b[1;33m\u001b[0m\u001b[0m\n\u001b[0;32m    195\u001b[0m \u001b[1;33m\u001b[0m\u001b[0m\n\u001b[1;32m--> 196\u001b[1;33m                 \u001b[0mouts\u001b[0m \u001b[1;33m=\u001b[0m \u001b[0mfit_function\u001b[0m\u001b[1;33m(\u001b[0m\u001b[0mins_batch\u001b[0m\u001b[1;33m)\u001b[0m\u001b[1;33m\u001b[0m\u001b[1;33m\u001b[0m\u001b[0m\n\u001b[0m\u001b[0;32m    197\u001b[0m                 \u001b[0mouts\u001b[0m \u001b[1;33m=\u001b[0m \u001b[0mto_list\u001b[0m\u001b[1;33m(\u001b[0m\u001b[0mouts\u001b[0m\u001b[1;33m)\u001b[0m\u001b[1;33m\u001b[0m\u001b[1;33m\u001b[0m\u001b[0m\n\u001b[0;32m    198\u001b[0m                 \u001b[1;32mfor\u001b[0m \u001b[0ml\u001b[0m\u001b[1;33m,\u001b[0m \u001b[0mo\u001b[0m \u001b[1;32min\u001b[0m \u001b[0mzip\u001b[0m\u001b[1;33m(\u001b[0m\u001b[0mout_labels\u001b[0m\u001b[1;33m,\u001b[0m \u001b[0mouts\u001b[0m\u001b[1;33m)\u001b[0m\u001b[1;33m:\u001b[0m\u001b[1;33m\u001b[0m\u001b[1;33m\u001b[0m\u001b[0m\n",
      "\u001b[1;32m~\\Anaconda3\\lib\\site-packages\\tensorflow\\python\\keras\\backend.py\u001b[0m in \u001b[0;36m__call__\u001b[1;34m(self, inputs)\u001b[0m\n\u001b[0;32m   3290\u001b[0m \u001b[1;33m\u001b[0m\u001b[0m\n\u001b[0;32m   3291\u001b[0m     fetched = self._callable_fn(*array_vals,\n\u001b[1;32m-> 3292\u001b[1;33m                                 run_metadata=self.run_metadata)\n\u001b[0m\u001b[0;32m   3293\u001b[0m     \u001b[0mself\u001b[0m\u001b[1;33m.\u001b[0m\u001b[0m_call_fetch_callbacks\u001b[0m\u001b[1;33m(\u001b[0m\u001b[0mfetched\u001b[0m\u001b[1;33m[\u001b[0m\u001b[1;33m-\u001b[0m\u001b[0mlen\u001b[0m\u001b[1;33m(\u001b[0m\u001b[0mself\u001b[0m\u001b[1;33m.\u001b[0m\u001b[0m_fetches\u001b[0m\u001b[1;33m)\u001b[0m\u001b[1;33m:\u001b[0m\u001b[1;33m]\u001b[0m\u001b[1;33m)\u001b[0m\u001b[1;33m\u001b[0m\u001b[1;33m\u001b[0m\u001b[0m\n\u001b[0;32m   3294\u001b[0m     output_structure = nest.pack_sequence_as(\n",
      "\u001b[1;32m~\\Anaconda3\\lib\\site-packages\\tensorflow\\python\\client\\session.py\u001b[0m in \u001b[0;36m__call__\u001b[1;34m(self, *args, **kwargs)\u001b[0m\n\u001b[0;32m   1456\u001b[0m         ret = tf_session.TF_SessionRunCallable(self._session._session,\n\u001b[0;32m   1457\u001b[0m                                                \u001b[0mself\u001b[0m\u001b[1;33m.\u001b[0m\u001b[0m_handle\u001b[0m\u001b[1;33m,\u001b[0m \u001b[0margs\u001b[0m\u001b[1;33m,\u001b[0m\u001b[1;33m\u001b[0m\u001b[1;33m\u001b[0m\u001b[0m\n\u001b[1;32m-> 1458\u001b[1;33m                                                run_metadata_ptr)\n\u001b[0m\u001b[0;32m   1459\u001b[0m         \u001b[1;32mif\u001b[0m \u001b[0mrun_metadata\u001b[0m\u001b[1;33m:\u001b[0m\u001b[1;33m\u001b[0m\u001b[1;33m\u001b[0m\u001b[0m\n\u001b[0;32m   1460\u001b[0m           \u001b[0mproto_data\u001b[0m \u001b[1;33m=\u001b[0m \u001b[0mtf_session\u001b[0m\u001b[1;33m.\u001b[0m\u001b[0mTF_GetBuffer\u001b[0m\u001b[1;33m(\u001b[0m\u001b[0mrun_metadata_ptr\u001b[0m\u001b[1;33m)\u001b[0m\u001b[1;33m\u001b[0m\u001b[1;33m\u001b[0m\u001b[0m\n",
      "\u001b[1;31mKeyboardInterrupt\u001b[0m: "
     ]
    }
   ],
   "source": [
    "# The step wise learning rate does not seem to perform efficiently. The loss is hovering arounnd the minima of the loss function or is trapped in a local minima\n",
    "# Will be using exponential decay\n",
    "# Training on 25 epochs and agian decaying the learning rate\n",
    "model6 = RNN()\n",
    "model6.summary()\n",
    "model6.compile(loss='binary_crossentropy',optimizer=RMSprop(lr = 0.005,decay=0.3),metrics=['accuracy'])\n",
    "lstm_model =model6.fit(sequences_matrix,Y_train,batch_size=128,epochs=100,validation_data=(test_sequences_matrix, Y_test))\n",
    "loss(lstm_model)"
   ]
  },
  {
   "cell_type": "code",
   "execution_count": null,
   "metadata": {},
   "outputs": [],
   "source": []
  }
 ],
 "metadata": {
  "kernelspec": {
   "display_name": "Python 3",
   "language": "python",
   "name": "python3"
  },
  "language_info": {
   "codemirror_mode": {
    "name": "ipython",
    "version": 3
   },
   "file_extension": ".py",
   "mimetype": "text/x-python",
   "name": "python",
   "nbconvert_exporter": "python",
   "pygments_lexer": "ipython3",
   "version": "3.7.3"
  }
 },
 "nbformat": 4,
 "nbformat_minor": 2
}
